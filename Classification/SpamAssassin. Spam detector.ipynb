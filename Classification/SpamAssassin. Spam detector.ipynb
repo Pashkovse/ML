{
 "cells": [
  {
   "cell_type": "markdown",
   "metadata": {},
   "source": [
    "## Spam detector"
   ]
  },
  {
   "cell_type": "markdown",
   "metadata": {},
   "source": [
    "#### Imports"
   ]
  },
  {
   "cell_type": "code",
   "execution_count": 29,
   "metadata": {},
   "outputs": [],
   "source": [
    "import numpy as np\n",
    "import pandas as pd\n",
    "import os\n",
    "import re\n",
    "import itertools\n",
    "from sklearn.model_selection import StratifiedShuffleSplit, train_test_split\n",
    "from sklearn.metrics import accuracy_score,confusion_matrix,classification_report\n",
    "from sklearn.feature_extraction.text import CountVectorizer\n",
    "from matplotlib import pyplot as plt\n",
    "%matplotlib inline\n",
    "\n",
    "from sklearn.naive_bayes import MultinomialNB\n",
    "from sklearn.linear_model import LogisticRegression\n",
    "from sklearn.neighbors import KNeighborsClassifier\n",
    "from sklearn.ensemble import RandomForestClassifier\n",
    "from sklearn.ensemble import AdaBoostClassifier"
   ]
  },
  {
   "cell_type": "markdown",
   "metadata": {},
   "source": [
    "#### Get  data"
   ]
  },
  {
   "cell_type": "markdown",
   "metadata": {},
   "source": [
    "Data : https://spamassassin.apache.org/old/publiccorpus/"
   ]
  },
  {
   "cell_type": "code",
   "execution_count": 3,
   "metadata": {},
   "outputs": [
    {
     "data": {
      "text/html": [
       "<div>\n",
       "<style scoped>\n",
       "    .dataframe tbody tr th:only-of-type {\n",
       "        vertical-align: middle;\n",
       "    }\n",
       "\n",
       "    .dataframe tbody tr th {\n",
       "        vertical-align: top;\n",
       "    }\n",
       "\n",
       "    .dataframe thead th {\n",
       "        text-align: right;\n",
       "    }\n",
       "</style>\n",
       "<table border=\"1\" class=\"dataframe\">\n",
       "  <thead>\n",
       "    <tr style=\"text-align: right;\">\n",
       "      <th></th>\n",
       "      <th>Text</th>\n",
       "      <th>IsSpam</th>\n",
       "      <th>Category</th>\n",
       "    </tr>\n",
       "  </thead>\n",
       "  <tbody>\n",
       "    <tr>\n",
       "      <th>0</th>\n",
       "      <td>From fork-admin@xent.com  Tue Sep 24 17:55:30 ...</td>\n",
       "      <td>0</td>\n",
       "      <td>1</td>\n",
       "    </tr>\n",
       "    <tr>\n",
       "      <th>1</th>\n",
       "      <td>From rpm-list-admin@freshrpms.net  Mon Sep  9 ...</td>\n",
       "      <td>0</td>\n",
       "      <td>1</td>\n",
       "    </tr>\n",
       "  </tbody>\n",
       "</table>\n",
       "</div>"
      ],
      "text/plain": [
       "                                                Text  IsSpam  Category\n",
       "0  From fork-admin@xent.com  Tue Sep 24 17:55:30 ...       0         1\n",
       "1  From rpm-list-admin@freshrpms.net  Mon Sep  9 ...       0         1"
      ]
     },
     "execution_count": 3,
     "metadata": {},
     "output_type": "execute_result"
    }
   ],
   "source": [
    "easy_ham_path = './easy_ham'\n",
    "easy_ham2_path = './easy_ham_2'\n",
    "hard_ham_path = './hard_ham'\n",
    "spam_path = './spam'\n",
    "spam_2_path = './spam_2'\n",
    "i=0\n",
    "data = []\n",
    "\n",
    "for filename in os.listdir(easy_ham_path):\n",
    "    t = open(easy_ham_path+\"/\"+filename,'r',encoding='latin-1').read()\n",
    "    data.append([t,0,1])\n",
    "\n",
    "for filename in os.listdir(easy_ham2_path):\n",
    "    t = open(easy_ham2_path+\"/\"+filename,'r',encoding='latin-1').read()\n",
    "    data.append([t,0,1])\n",
    "    \n",
    "for filename in os.listdir(hard_ham_path):\n",
    "    t = open(hard_ham_path+\"/\"+filename,'r',encoding='latin-1').read()\n",
    "    data.append([t,0,2])\n",
    "\n",
    "for filename in os.listdir(spam_path):\n",
    "    t = open(spam_path+\"/\"+filename,'r',encoding='latin-1').read()\n",
    "    data.append([t,1,3])\n",
    "    \n",
    "for filename in os.listdir(spam_2_path):\n",
    "    t = open(spam_2_path+\"/\"+filename,'r',encoding='latin-1').read()\n",
    "    data.append([t,1,3])\n",
    "\n",
    "df = pd.DataFrame(data=data,columns=['Text','IsSpam','Category'])\n",
    "df.head(2)"
   ]
  },
  {
   "cell_type": "markdown",
   "metadata": {},
   "source": [
    "#### Preprocessing"
   ]
  },
  {
   "cell_type": "code",
   "execution_count": 4,
   "metadata": {},
   "outputs": [
    {
     "data": {
      "text/plain": [
       "array([[<matplotlib.axes._subplots.AxesSubplot object at 0x109f318d0>]], dtype=object)"
      ]
     },
     "execution_count": 4,
     "metadata": {},
     "output_type": "execute_result"
    },
    {
     "data": {
      "image/png": "[encoded data removed]",
      "text/plain": [
       "<Figure size 432x288 with 1 Axes>"
      ]
     },
     "metadata": {},
     "output_type": "display_data"
    }
   ],
   "source": [
    "df.hist(column=['Category'])"
   ]
  },
  {
   "cell_type": "code",
   "execution_count": 5,
   "metadata": {},
   "outputs": [],
   "source": [
    "X = df[['Text','Category']]\n",
    "y = df['IsSpam']\n",
    "X_train, X_test, y_train, y_test = train_test_split(X, y, test_size=0.15, random_state=42, stratify=X['Category'])"
   ]
  },
  {
   "cell_type": "code",
   "execution_count": 16,
   "metadata": {},
   "outputs": [],
   "source": [
    "count_vectorizer =CountVectorizer(preprocessor=lambda x: re.sub(r'(\\d[\\d\\.])+', '', x.lower()))\n",
    "X_train_df = count_vectorizer.fit_transform(X_train['Text'].values)\n",
    "X_test_df = count_vectorizer.transform(X_test['Text'].values)"
   ]
  },
  {
   "cell_type": "code",
   "execution_count": 15,
   "metadata": {},
   "outputs": [],
   "source": [
    "#count_vectorizer.vocabulary_"
   ]
  },
  {
   "cell_type": "markdown",
   "metadata": {},
   "source": [
    "#### Model selection"
   ]
  },
  {
   "cell_type": "code",
   "execution_count": 27,
   "metadata": {},
   "outputs": [],
   "source": [
    "def test_model(model,name):\n",
    "    model.fit(X_train_df, y_train) \n",
    "    print (name + \" : \", accuracy_score(y_test,model.predict(X_test_df)))"
   ]
  },
  {
   "cell_type": "code",
   "execution_count": 31,
   "metadata": {},
   "outputs": [],
   "source": [
    "model_arr = {\n",
    "    \"RandomForestClassifier\":RandomForestClassifier(),\n",
    "    \"LogisticRegression\": LogisticRegression(),\n",
    "    \"KNeighborsClassifier\": KNeighborsClassifier(n_neighbors=5),\n",
    "    \"MultinomialNB\": MultinomialNB(),\n",
    "    \"AdaBoostClassifier\": AdaBoostClassifier()\n",
    "}"
   ]
  },
  {
   "cell_type": "code",
   "execution_count": 32,
   "metadata": {},
   "outputs": [
    {
     "name": "stdout",
     "output_type": "stream",
     "text": [
      "RandomForestClassifier :  0.969162995595\n",
      "LogisticRegression :  0.988986784141\n",
      "KNeighborsClassifier :  0.958149779736\n",
      "MultinomialNB :  0.955947136564\n",
      "AdaBoostClassifier :  0.98127753304\n"
     ]
    }
   ],
   "source": [
    "for model in model_arr:    \n",
    "    test_model(model_arr[model],model)"
   ]
  },
  {
   "cell_type": "markdown",
   "metadata": {},
   "source": [
    "#### Model evaluating"
   ]
  },
  {
   "cell_type": "code",
   "execution_count": 33,
   "metadata": {},
   "outputs": [
    {
     "data": {
      "text/plain": [
       "LogisticRegression(C=1.0, class_weight=None, dual=False, fit_intercept=True,\n",
       "          intercept_scaling=1, max_iter=100, multi_class='ovr', n_jobs=1,\n",
       "          penalty='l2', random_state=None, solver='liblinear', tol=0.0001,\n",
       "          verbose=0, warm_start=False)"
      ]
     },
     "execution_count": 33,
     "metadata": {},
     "output_type": "execute_result"
    }
   ],
   "source": [
    "model = LogisticRegression()\n",
    "model.fit(X_train_df, y_train)"
   ]
  },
  {
   "cell_type": "code",
   "execution_count": 35,
   "metadata": {},
   "outputs": [],
   "source": [
    "predictions = model.predict(X_test_df)"
   ]
  },
  {
   "cell_type": "code",
   "execution_count": 36,
   "metadata": {},
   "outputs": [
    {
     "name": "stdout",
     "output_type": "stream",
     "text": [
      "             precision    recall  f1-score   support\n",
      "\n",
      "        Ham       0.99      0.99      0.99       623\n",
      "       Spam       0.99      0.98      0.98       285\n",
      "\n",
      "avg / total       0.99      0.99      0.99       908\n",
      "\n"
     ]
    }
   ],
   "source": [
    "print(classification_report(y_test, predictions, target_names = [\"Ham\", \"Spam\"]))"
   ]
  },
  {
   "cell_type": "code",
   "execution_count": 40,
   "metadata": {},
   "outputs": [
    {
     "data": {
      "text/plain": [
       "3960    From trivia@allthingsnewengland.com Fri Aug 23...\n",
       "3933    From tesco.ie@crrvja.cjsias.uhbeqs.bounce.12hs...\n",
       "3991    Received: from rs6000.resqnet.com (rs6000.resq...\n",
       "540     From quinlan@pathname.com  Fri Aug 23 11:33:57...\n",
       "Name: Text, dtype: object"
      ]
     },
     "execution_count": 40,
     "metadata": {},
     "output_type": "execute_result"
    }
   ],
   "source": [
    "#False Positive\n",
    "X_test[y_test < predictions]['Text']"
   ]
  },
  {
   "cell_type": "code",
   "execution_count": 39,
   "metadata": {},
   "outputs": [
    {
     "data": {
      "text/plain": [
       "5493    From fork-admin@xent.com  Tue Aug  6 11:58:41 ...\n",
       "4937    From ilug-admin@linux.ie  Tue Jul 30 10:52:20 ...\n",
       "4306    From info@purplehotel.com  Wed Aug 28 10:45:50...\n",
       "5041    From fork-admin@xent.com  Fri Aug  2 00:52:07 ...\n",
       "4360    mv 00001.7848dde101aa985090474a91ec93fcf0 0000...\n",
       "4656    From edum@hkem.com  Mon Jun 24 17:04:26 2002\\n...\n",
       "Name: Text, dtype: object"
      ]
     },
     "execution_count": 39,
     "metadata": {},
     "output_type": "execute_result"
    }
   ],
   "source": [
    "#False Negative\n",
    "X_test[y_test > predictions]['Text']"
   ]
  }
 ],
 "metadata": {
  "kernelspec": {
   "display_name": "Python 3",
   "language": "python",
   "name": "python3"
  },
  "language_info": {
   "codemirror_mode": {
    "name": "ipython",
    "version": 3
   },
   "file_extension": ".py",
   "mimetype": "text/x-python",
   "name": "python",
   "nbconvert_exporter": "python",
   "pygments_lexer": "ipython3",
   "version": "3.7.0"
  }
 },
 "nbformat": 4,
 "nbformat_minor": 2
}
