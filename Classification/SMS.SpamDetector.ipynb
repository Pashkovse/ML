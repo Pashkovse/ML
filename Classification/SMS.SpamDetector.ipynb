{
 "cells": [
  {
   "cell_type": "markdown",
   "metadata": {},
   "source": [
    "## Определение спама в СМС"
   ]
  },
  {
   "cell_type": "code",
   "execution_count": 1,
   "metadata": {},
   "outputs": [
    {
     "name": "stderr",
     "output_type": "stream",
     "text": [
      "/anaconda3/lib/python3.7/site-packages/sklearn/cross_validation.py:41: DeprecationWarning: This module was deprecated in version 0.18 in favor of the model_selection module into which all the refactored classes and functions are moved. Also note that the interface of the new CV iterators are different from that of this module. This module will be removed in 0.20.\n",
      "  \"This module will be removed in 0.20.\", DeprecationWarning)\n"
     ]
    }
   ],
   "source": [
    "import pandas as pd\n",
    "import numpy as np\n",
    "from sklearn.feature_extraction.text import CountVectorizer\n",
    "from sklearn.cross_validation import cross_val_score\n",
    "from sklearn.linear_model import LogisticRegression\n",
    "from sklearn.naive_bayes import MultinomialNB\n",
    "from sklearn.feature_extraction.text import TfidfVectorizer"
   ]
  },
  {
   "cell_type": "code",
   "execution_count": 2,
   "metadata": {},
   "outputs": [],
   "source": [
    "#Загрузим данные\n",
    "data = pd.read_csv('../Data/SMSSpamCollection.txt', delimiter='\\t',header=None,names=['label', 'sms'])\n",
    "y = np.where(data.label == 'ham',0,1)\n",
    "sms = data.sms"
   ]
  },
  {
   "cell_type": "code",
   "execution_count": 3,
   "metadata": {},
   "outputs": [
    {
     "name": "stdout",
     "output_type": "stream",
     "text": [
      "[[0 0 0 ... 0 0 0]\n",
      " [0 0 0 ... 0 0 0]\n",
      " [0 0 0 ... 0 0 0]\n",
      " ...\n",
      " [0 0 0 ... 0 0 0]\n",
      " [0 0 0 ... 0 0 0]\n",
      " [0 0 0 ... 0 0 0]]\n"
     ]
    }
   ],
   "source": [
    "#Сформируем матрицу признаков\n",
    "vectorizer = CountVectorizer()\n",
    "X = vectorizer.fit_transform(sms)\n",
    "print (X.toarray())"
   ]
  },
  {
   "cell_type": "code",
   "execution_count": 4,
   "metadata": {},
   "outputs": [
    {
     "name": "stdout",
     "output_type": "stream",
     "text": [
      "Mean:  0.9\n",
      "Results:  [0.95890411 0.89855072 0.91549296 0.95833333 0.93706294 0.91304348\n",
      " 0.94444444 0.92753623 0.92198582 0.95104895]\n"
     ]
    }
   ],
   "source": [
    "#Оценим модель логистиеской регрессии на униграммах\n",
    "log_model = LogisticRegression(random_state=2)\n",
    "results = cross_val_score(log_model, X, y, cv=10, scoring='f1')\n",
    "print('Mean: ',round(results.mean(),1))\n",
    "print('Results: ',results)"
   ]
  },
  {
   "cell_type": "code",
   "execution_count": 5,
   "metadata": {},
   "outputs": [
    {
     "data": {
      "text/plain": [
       "LogisticRegression(C=1.0, class_weight=None, dual=False, fit_intercept=True,\n",
       "          intercept_scaling=1, max_iter=100, multi_class='ovr', n_jobs=1,\n",
       "          penalty='l2', random_state=2, solver='liblinear', tol=0.0001,\n",
       "          verbose=0, warm_start=False)"
      ]
     },
     "execution_count": 5,
     "metadata": {},
     "output_type": "execute_result"
    }
   ],
   "source": [
    "#Обучим модельна всей выборке\n",
    "log_model.fit(X,y)"
   ]
  },
  {
   "cell_type": "code",
   "execution_count": 6,
   "metadata": {},
   "outputs": [
    {
     "data": {
      "text/plain": [
       "array([1, 1, 0, 0, 0])"
      ]
     },
     "execution_count": 6,
     "metadata": {},
     "output_type": "execute_result"
    }
   ],
   "source": [
    "#Сделаем пару предсказаний\n",
    "test_sms = [\"FreeMsg: Txt: CALL to No: 86888 & claim your reward of 3 hours talk time to use from your phone now! Subscribe6GB\"\n",
    ",\"FreeMsg: Txt: claim your reward of 3 hours talk time\"\n",
    ",\"Have you visited the last lecture on physics?\"\n",
    ",\"Have you visited the last lecture on physics? Just buy this book and you will have all materials! Only 99$\"\n",
    ",\"Only 99$\"]\n",
    "\n",
    "log_model.predict(vectorizer.transform(test_sms))"
   ]
  },
  {
   "cell_type": "code",
   "execution_count": 7,
   "metadata": {},
   "outputs": [],
   "source": [
    "#Функция для оценки моделей\n",
    "def test_model(X,y,m,ngram_range):\n",
    "    v = CountVectorizer(ngram_range=ngram_range)\n",
    "    x = v.fit_transform(X)\n",
    "    m.fit(x,y)\n",
    "    r = cross_val_score(m,x,y,cv=10,scoring='f1')\n",
    "    return round(r.mean(),2)"
   ]
  },
  {
   "cell_type": "code",
   "execution_count": 8,
   "metadata": {},
   "outputs": [
    {
     "data": {
      "text/plain": [
       "[0.82, 0.73, 0.93]"
      ]
     },
     "execution_count": 8,
     "metadata": {},
     "output_type": "execute_result"
    }
   ],
   "source": [
    "#Оценим модель логистической регрессии с добавлением n-грамм\n",
    "m = LogisticRegression(random_state=2)\n",
    "log_results = [test_model(sms,y,m,r) for r in [(2,2),(3,3),(1,3)]]\n",
    "log_results"
   ]
  },
  {
   "cell_type": "code",
   "execution_count": 9,
   "metadata": {},
   "outputs": [
    {
     "data": {
      "text/plain": [
       "[0.65, 0.38, 0.89]"
      ]
     },
     "execution_count": 9,
     "metadata": {},
     "output_type": "execute_result"
    }
   ],
   "source": [
    "#Оценим модель наивного Байеса с добавлением n-грамм\n",
    "m = MultinomialNB()\n",
    "bayes_results = [test_model(sms,y,m,r) for r in [(2,2),(3,3),(1,3)]]\n",
    "bayes_results"
   ]
  },
  {
   "cell_type": "code",
   "execution_count": 10,
   "metadata": {},
   "outputs": [
    {
     "data": {
      "text/plain": [
       "0.8528599554172456"
      ]
     },
     "execution_count": 10,
     "metadata": {},
     "output_type": "execute_result"
    }
   ],
   "source": [
    "#Оценим модель логистической регрессии на TF-IDF\n",
    "m = LogisticRegression(random_state=2)\n",
    "tfid_vectorizer = TfidfVectorizer()\n",
    "X2 = tfid_vectorizer.fit_transform(sms)\n",
    "m.fit(X2,y)\n",
    "tfid_results = cross_val_score(m,X2,y,cv=10,scoring='f1')\n",
    "tfid_results.mean()"
   ]
  }
 ],
 "metadata": {
  "kernelspec": {
   "display_name": "Python 3",
   "language": "python",
   "name": "python3"
  },
  "language_info": {
   "codemirror_mode": {
    "name": "ipython",
    "version": 3
   },
   "file_extension": ".py",
   "mimetype": "text/x-python",
   "name": "python",
   "nbconvert_exporter": "python",
   "pygments_lexer": "ipython3",
   "version": "3.7.0"
  }
 },
 "nbformat": 4,
 "nbformat_minor": 2
}
