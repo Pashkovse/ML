{
 "cells": [
  {
   "cell_type": "markdown",
   "metadata": {},
   "source": [
    "# Поиск схожих предложений"
   ]
  },
  {
   "cell_type": "code",
   "execution_count": 1,
   "metadata": {},
   "outputs": [],
   "source": [
    "import re\n",
    "import math\n",
    "import numpy as np\n",
    "from numpy.linalg import norm\n",
    "from scipy.spatial.distance import cosine\n",
    "from matplotlib import pylab as plt\n",
    "from scipy.linalg import solve\n",
    "from scipy import optimize\n",
    "import scipy.stats as sts"
   ]
  },
  {
   "cell_type": "code",
   "execution_count": 2,
   "metadata": {},
   "outputs": [],
   "source": [
    "#Формирование словаря\n",
    "def linesToWordsDict(lines,delimiter):\n",
    "    words = dict()    \n",
    "    for line in lines:\n",
    "        for word in filter(None,re.split(delimiter,line)):\n",
    "            if word not in words:\n",
    "                words[word] = 0 # or 1\n",
    "            else:\n",
    "                words[word] += 1 \n",
    "    return words"
   ]
  },
  {
   "cell_type": "code",
   "execution_count": 3,
   "metadata": {},
   "outputs": [],
   "source": [
    "#Формирование матрицы вхождений\n",
    "def linesToMatrix(lines,words,delimiter):\n",
    "    linesCount = len(lines)\n",
    "    wordsCount = len(words)\n",
    "    matrix = np.zeros((linesCount,wordsCount))\n",
    "    for i in range(0,linesCount,1):\n",
    "        lineWords = list(filter(None,re.split(delimiter,lines[i])))\n",
    "        for j in range(0,wordsCount,1):\n",
    "            dictWord = list(words.keys())[j]\n",
    "            for lineWord in lineWords:\n",
    "                if (dictWord == lineWord):\n",
    "                    matrix[i][j] +=1 \n",
    "    return matrix "
   ]
  },
  {
   "cell_type": "code",
   "execution_count": 4,
   "metadata": {},
   "outputs": [],
   "source": [
    "#Поиск схожих предложения\n",
    "def matchSentence (sentenceNum, matrix, n):\n",
    "    cos_values = []\n",
    "    out = []    \n",
    "    for row in range(0,len(matrix),1):\n",
    "        cos_values.append(cosine(matrix[sentenceNum],matrix[row]))\n",
    "    for i in range(0,n,1):        \n",
    "        val = min(cos_values)\n",
    "        #ind = cos_values.ind(val)\n",
    "        cos_values.remove(val)\n",
    "        out.append(val)\n",
    "    return out  "
   ]
  },
  {
   "cell_type": "code",
   "execution_count": 5,
   "metadata": {},
   "outputs": [
    {
     "name": "stdout",
     "output_type": "stream",
     "text": [
      "[0.0, 0.7327387580875756, 0.7770887149698589]\n"
     ]
    }
   ],
   "source": [
    "file = open('../data/sentences.txt','r')\n",
    "lines = file.readlines()\n",
    "lines = list(map(lambda x : x.lower(),lines))\n",
    "words = linesToWordsDict(lines,'[^a-z]')\n",
    "matrix = linesToMatrix(lines,words,'[^a-z]')\n",
    "result = matchSentence(0,matrix,3)\n",
    "\n",
    "print (result)"
   ]
  }
 ],
 "metadata": {
  "kernelspec": {
   "display_name": "Python 3",
   "language": "python",
   "name": "python3"
  },
  "language_info": {
   "codemirror_mode": {
    "name": "ipython",
    "version": 3
   },
   "file_extension": ".py",
   "mimetype": "text/x-python",
   "name": "python",
   "nbconvert_exporter": "python",
   "pygments_lexer": "ipython3",
   "version": "3.7.0"
  }
 },
 "nbformat": 4,
 "nbformat_minor": 2
}
