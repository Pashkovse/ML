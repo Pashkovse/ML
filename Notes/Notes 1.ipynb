{
 "cells": [
  {
   "cell_type": "code",
   "execution_count": 70,
   "metadata": {},
   "outputs": [
    {
     "name": "stdout",
     "output_type": "stream",
     "text": [
      "Populating the interactive namespace from numpy and matplotlib\n"
     ]
    }
   ],
   "source": [
    "import re\n",
    "import pandas as pd\n",
    "import numpy as np\n",
    "from scipy.spatial.distance import cosine\n",
    "from numpy.linalg import norm\n",
    "from scipy import optimize\n",
    "import scipy.stats as sts\n",
    "import matplotlib.pyplot as plt\n",
    "import statsmodels.stats.api as sm\n",
    "%pylab inline"
   ]
  },
  {
   "cell_type": "markdown",
   "metadata": {},
   "source": [
    "## Вычислить сходство предложений"
   ]
  },
  {
   "cell_type": "code",
   "execution_count": 33,
   "metadata": {
    "collapsed": true
   },
   "outputs": [],
   "source": [
    "#Словарь слов\n",
    "def linesToWordsDict(lines,delimiter):\n",
    "    words = dict()    \n",
    "    for line in lines:\n",
    "        for word in filter(None,re.split(delimiter,line)):\n",
    "            if word not in words:\n",
    "                words[word] = 0 # or 1\n",
    "            else:\n",
    "                words[word] += 1 \n",
    "    return words\n",
    "\n",
    "#Матрица вхождений слов\n",
    "def linesToMatrix(lines,words,delimiter):\n",
    "    linesCount = len(lines)\n",
    "    wordsCount = len(words)\n",
    "    matrix = np.zeros((linesCount,wordsCount))\n",
    "    for i in range(0,linesCount,1):\n",
    "        lineWords = list(filter(None,re.split(delimiter,lines[i])))\n",
    "        for j in range(0,wordsCount,1):\n",
    "            dictWord = list(words.keys())[j]\n",
    "            for lineWord in lineWords:\n",
    "                if (dictWord == lineWord):\n",
    "                    matrix[i][j] +=1 \n",
    "    return matrix\n",
    "\n",
    "#Найти схожие предложения\n",
    "def matchSentence (sentenceNum, matrix, n):\n",
    "    cos_values = []\n",
    "    out = []    \n",
    "    for row in range(0,len(matrix),1):\n",
    "        cos_values.append(cosine(matrix[sentenceNum],matrix[row]))\n",
    "    for i in range(0,n,1):        \n",
    "        val = min(cos_values)\n",
    "        #ind = cos_values.ind(val)\n",
    "        cos_values.remove(val)\n",
    "        out.append(val)\n",
    "    return out   "
   ]
  },
  {
   "cell_type": "code",
   "execution_count": 34,
   "metadata": {},
   "outputs": [
    {
     "name": "stdout",
     "output_type": "stream",
     "text": [
      "[0.0, 0.7327387580875756, 0.77708871496985887]\n"
     ]
    }
   ],
   "source": [
    "file = open('sentences.txt','r')\n",
    "lines = file.readlines()\n",
    "lines = list(map(lambda x : x.lower(),lines))\n",
    "words = linesToWordsDict(lines,'[^a-z]')\n",
    "matrix = linesToMatrix(lines,words,'[^a-z]')\n",
    "result = matchSentence(0,matrix,3)\n",
    "\n",
    "print (result)"
   ]
  },
  {
   "cell_type": "markdown",
   "metadata": {},
   "source": [
    "## Обработка выборки"
   ]
  },
  {
   "cell_type": "code",
   "execution_count": 72,
   "metadata": {
    "scrolled": true
   },
   "outputs": [],
   "source": [
    "#Чтение\n",
    "frame = pd.read_csv('dataset.tsv', header=0, sep='\\t')\n",
    "\n",
    "#Применить функцию к столбцу\n",
    "frame.Birth = frame.Birth.apply(pd.to_datetime)\n",
    "\n",
    "#Заполнить nulls\n",
    "frame = frame.fillna('Кто то')\n",
    "\n",
    "#Запись\n",
    "#frame.to_csv('updated_dataset.csv', sep=',', header=True, index=False)\n",
    "\n",
    "#Выборка по условию\n",
    "frame[(frame.Birth >= pd.datetime(1985,1,1)) &\n",
    "      (frame.City == 'Москва')]\n",
    "\n",
    "#Первые несколько записей\n",
    "frame.head(5)\n",
    "\n",
    "#Группировка\n",
    "#group = frame.groupby('City')['City'].agg(lambda x : float(len(x))/frame.shape[0])\n",
    "group = frame.groupby('City')['City'].count()\n",
    "\n",
    "#График\n",
    "plt.figure(figsize(8,6))\n",
    "group.plot(kind='bar')\n",
    "plt.xticks(rotation=0)"
   ]
  },
  {
   "cell_type": "code",
   "execution_count": 87,
   "metadata": {},
   "outputs": [
    {
     "name": "stdout",
     "output_type": "stream",
     "text": [
      "0.43888087435\n",
      "(-0.61200448832395105, 0.32284754656328241)\n"
     ]
    }
   ],
   "source": [
    "#Добавить поле\n",
    "frame['y'] = pd.Series(np.random.rand(len(frame)))\n",
    "#del frame['y']\n",
    "\n",
    "#Средние\n",
    "means = sm.CompareMeans(sm.DescrStatsW(frame[frame['City'] == 'Москва']['y']),\n",
    "                        sm.DescrStatsW(frame[frame['City'] != 'Москва']['y']))\n",
    "\n",
    "#Различия между средними\n",
    "print(means.ttest_ind(alternative='two-sided', usevar='pooled', value=0)[1])\n",
    "\n",
    "#Доверительный интервал\n",
    "print(means.tconfint_diff(alpha=0.05, alternative='two-sided', usevar='pooled'))"
   ]
  },
  {
   "cell_type": "markdown",
   "metadata": {},
   "source": [
    "## Вектора"
   ]
  },
  {
   "cell_type": "markdown",
   "metadata": {},
   "source": [
    "##### Норма L1 =     $\\left\\Vert x \\right\\Vert_{1} = \\sum_{i=1}^n \\left| x_{i} \\right|.$\n",
    "##### Норма L2 =     $\\left\\Vert x \\right\\Vert_{2} = \\sqrt{\\sum_{i=1}^n \\left( x_{i} \\right)^2}.$\n",
    "##### Расстояние L1 =     $\\rho_{1}\\left( x, y \\right) = \\left\\Vert x - y \\right\\Vert_{1} = \\sum_{i=1}^n \\left| x_{i} - y_{i} \\right|$\n",
    "##### Расстояние L2 =   $ \\rho_{2}\\left( x, y \\right) = \\left\\Vert x - y \\right\\Vert_{2} = \n",
    " \\sqrt{\\sum_{i=1}^n \\left( x_{i} - y_{i} \\right)^2}.$\n",
    " ##### Скалярное произведение =   $ \\langle x, y \\rangle = \\sum_{i=1}^n x_{i} y_{i}.$\n",
    " ##### Косинусное расстояние $\\langle x, y \\rangle = \\left| x \\right| | y | \\cos(\\alpha)\\implies \\cos(\\alpha) = \\frac{\\langle x, y \\rangle}{\\left| x \\right| | y |},$"
   ]
  },
  {
   "cell_type": "code",
   "execution_count": 92,
   "metadata": {},
   "outputs": [],
   "source": [
    "#Массивы \\ Вектора\n",
    "sampleArray = np.array([1,2,3,4,5],dtype=int)\n",
    "sampleArray2 = np.array([1,1,2,2,3],dtype=int)\n",
    "sampleInterval = np.arange(start=0,stop=10,step=1)\n",
    "\n",
    "#Норма вектора\n",
    "norm(sampleArray,ord=1)\n",
    "\n",
    "#Расстояние между векторами\n",
    "norm(sampleArray-sampleArray2,ord=2)\n",
    "\n",
    "#Скалярное произведение\n",
    "np.dot(sampleArray, sampleArray2)\n",
    "\n",
    "#Косинус между векторами\n",
    "cos = np.dot(sampleArray, sampleArray2) / norm(sampleArray) /norm(sampleArray2)\n",
    "\n",
    "#Расстояние c преобразованием (можно вычислять попарные расстояния между матрицами)\n",
    "#from scipy.spatial.distance import cdist\n",
    "#sampleArray = sampleArray.reshape((1,5))\n",
    "#sampleArray2 = sampleArray2.reshape((1,5))\n",
    "#print(cdist(sampleArray,sampleArray2,metric='euclidean'))"
   ]
  },
  {
   "cell_type": "markdown",
   "metadata": {},
   "source": [
    "## Матрицы"
   ]
  },
  {
   "cell_type": "code",
   "execution_count": 93,
   "metadata": {},
   "outputs": [],
   "source": [
    "#Матрица\n",
    "mat = np.array([[1,2,3],[4,5,6],[7,8,9]])\n",
    "\n",
    "#Транспонирование\n",
    "matT = mat.T\n",
    "\n",
    "#Обращение\n",
    "matI = np.linalg.inv(mat)\n",
    "\n",
    "#Определитель\n",
    "det = np.linalg.det(mat)\n",
    "\n",
    "#Ранг\n",
    "rank = np.linalg.matrix_rank(mat)\n",
    "\n",
    "#Собственное числа и вектора\n",
    "num,vec = np.linalg.eig(mat)"
   ]
  },
  {
   "cell_type": "markdown",
   "metadata": {},
   "source": [
    "## СЛАУ Ax=b"
   ]
  },
  {
   "cell_type": "code",
   "execution_count": 31,
   "metadata": {},
   "outputs": [
    {
     "name": "stdout",
     "output_type": "stream",
     "text": [
      "Матрица показателей A:\n",
      " [[ 1  1  6]\n",
      " [ 2  5 11]\n",
      " [ 3  7 14]]\n",
      "Вектор результатов b:\n",
      " [9 8 7]\n",
      "Вектор коэффициентов w = Решение системы:\n",
      " [-3.5 -2.5  2.5]\n",
      "Псевдо решение системы:\n",
      " [-3.5 -2.5  2.5]\n"
     ]
    }
   ],
   "source": [
    "a = np.array([[1, 1, 6], [2, 5, 11],[3,7,14]])\n",
    "b = np.array([9, 8, 7])\n",
    "x = np.linalg.solve(a, b)\n",
    "px, pres, pr, ps = np.linalg.lstsq(a, b)\n",
    "\n",
    "print (\"Матрица показателей A:\\n\", a)\n",
    "print (\"Вектор результатов b:\\n\", b)\n",
    "print (\"Вектор коэффициентов w = Решение системы:\\n\", x)\n",
    "print (\"Псевдо решение системы:\\n\", px)\n",
    "\n",
    "#Проверка\n",
    "#print (np.dot(a,x))"
   ]
  },
  {
   "cell_type": "markdown",
   "metadata": {},
   "source": [
    "## Оптимизация"
   ]
  },
  {
   "cell_type": "code",
   "execution_count": 39,
   "metadata": {},
   "outputs": [
    {
     "name": "stdout",
     "output_type": "stream",
     "text": [
      "0.0\n"
     ]
    }
   ],
   "source": [
    "def f(x):   # The rosenbrock function\n",
    "    return .5*(1 - x[0])**2 + (x[1] - x[0]**2)**2\n",
    "    \n",
    "print (f([1, 1]))"
   ]
  },
  {
   "cell_type": "code",
   "execution_count": 46,
   "metadata": {
    "collapsed": true
   },
   "outputs": [],
   "source": [
    "#Оптимизация функции\n",
    "#print ('Перебор ',optimize.brute(f, ((-5, 5), (-5, 5))))\n",
    "#print ('\\nЭволюция ',optimize.differential_evolution(f, ((-5, 5), (-5, 5))))\n",
    "#print ('\\nBFGS  ',optimize.minimize(f, [2, 2], method='BFGS'))\n",
    "#print ('\\nНелдер-Мид  ',optimize.minimize(f, [2, 2], method='Nelder-Mead'))"
   ]
  },
  {
   "cell_type": "markdown",
   "metadata": {},
   "source": [
    "## Вероятность"
   ]
  },
  {
   "cell_type": "markdown",
   "metadata": {},
   "source": [
    "#### Произведение (независимые, оба произошли): $p(ab) =  p(a) * p(b)$\n",
    "#### Сумма ( несовместные, хоть 1 произошло): $p(a+b) =  p(a) + p(b)$\n",
    "#### Сумма (совместные, хоть 1 произошло: $p(a+b) =  p(a) + p(b) - p(ab)$\n",
    "\n",
    "#### Условная вероятность: $p(a|b) = p(ab)/p(b)$\n",
    "#### Полная вероятность: $p(a) =  p(a|b)*p(b) + p(a|!b)*p(b!)$"
   ]
  },
  {
   "cell_type": "markdown",
   "metadata": {},
   "source": [
    "### Формула Байеса: $P(B|E) = P(B) * P(E|B)  /  P(E)$\n",
    "B - Убеждение\n",
    "Е - Свидетельства\n",
    "\n",
    "Правильность убеждений с учетом новых свидетельсв = \n",
    "Правильность убеждений * Правильность свидетельств в случае правильности убеждений / Правильность свидетельств\n",
    "\n",
    "Пример:\n",
    "Вероятность болезни при положительном тесте = вероятность болезни * вероятность положительного теста при болезни / вероятность положительного теста. "
   ]
  },
  {
   "cell_type": "markdown",
   "metadata": {},
   "source": [
    "#### Мат. ожидание \n",
    "Cреднее арифметическое, EX\n",
    "#### Медиана \n",
    "центральный элемент вариационного ряда,квантиль 0.5 , квантиль =  p (X < Xa) >= a, p (X > Xa) >= 1-a\n",
    "#### Мода \n",
    "самое вероятное значение (максимум)\n",
    "\n",
    "#### Дисперсия\n",
    "Разброс = E ((X - EX)^2), Среднеквадратичное отклонение, SIG = sqrt(DX)\n",
    "\n",
    "#### Доверительный интервал\n",
    "$ P(Cl <= Tet <= Cu) >= 1 - alpha$\n",
    "Tet = оцениваемый параметр\n",
    "1 - alpha = уровень доверия\n",
    "C - границы, задаются через нормальное распределение = Pn = N (EX, DX/n)\n",
    "Pn - выборочное среднее, прим. мат. ожидание\n",
    "Пример: P (EX - 2*SIG <= p <= EX + 2*SIG) = 0.95\n",
    "\n",
    "### Центральная предельная теорема\n",
    "$Xn = N (EX, DX/n)$\n",
    "Распределение выборочных средних можно описать нормальным распределением."
   ]
  },
  {
   "cell_type": "markdown",
   "metadata": {},
   "source": [
    "#### Биноминальная величина :\n",
    "$p(x=k) =  C * p^k (1-p)^(n-k),    C = n!/(k! * (n-k)!)$\n",
    "n попыток, k попаданий, Баскетбольные броски"
   ]
  },
  {
   "cell_type": "markdown",
   "metadata": {},
   "source": [
    "#### Пуассоновская величина : \n",
    "$p(x=k) = lambda^k * e ^ -lambda / k!$\n",
    "Счётчик, k вхождений, количество слов в тексте"
   ]
  },
  {
   "cell_type": "markdown",
   "metadata": {},
   "source": [
    "#### Бернуллиевская величина : \n",
    "$p(x=1) =  p, p(x=0)=1-p$\n",
    "2 исхода, Монетка"
   ]
  },
  {
   "cell_type": "code",
   "execution_count": 56,
   "metadata": {},
   "outputs": [
    {
     "data": {
      "text/plain": [
       "<matplotlib.text.Text at 0xc6fb470>"
      ]
     },
     "execution_count": 56,
     "metadata": {},
     "output_type": "execute_result"
    },
    {
     "data": {
      "image/png": "[encoded data removed]",
      "text/plain": [
       "<matplotlib.figure.Figure at 0xc5fa438>"
      ]
     },
     "metadata": {},
     "output_type": "display_data"
    }
   ],
   "source": [
    "#Нормальное распределение, sigma - среднекв. откл., mu- мат. ожидание\n",
    "mu = 2.0\n",
    "sigma = 0.5\n",
    "norm_rv = sts.norm(loc=mu, scale=sigma)\n",
    "\n",
    "\n",
    "x = np.linspace(0,4,100)\n",
    "y = norm_rv.cdf(x) # функция распределения, вероятность что X примет значение <=x\n",
    "#y = norm_rv.pdf(x) # плотность вероятности\n",
    "#y = norm_rv.rvs(size=100)# сгенерировать несколько значений\n",
    "\n",
    "plt.plot(x,y)\n",
    "plt.ylabel('$F(x)$')\n",
    "plt.xlabel('$x$')"
   ]
  }
 ],
 "metadata": {
  "kernelspec": {
   "display_name": "Python 3",
   "language": "python",
   "name": "python3"
  },
  "language_info": {
   "codemirror_mode": {
    "name": "ipython",
    "version": 3
   },
   "file_extension": ".py",
   "mimetype": "text/x-python",
   "name": "python",
   "nbconvert_exporter": "python",
   "pygments_lexer": "ipython3",
   "version": "3.6.1"
  }
 },
 "nbformat": 4,
 "nbformat_minor": 2
}
