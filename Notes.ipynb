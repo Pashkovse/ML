{
 "cells": [
  {
   "cell_type": "markdown",
   "metadata": {},
   "source": [
    "### Оптимизация"
   ]
  },
  {
   "cell_type": "code",
   "execution_count": 23,
   "metadata": {},
   "outputs": [
    {
     "name": "stdout",
     "output_type": "stream",
     "text": [
      "F min =       fun: -16.999999995806757\n",
      " hess_inv: array([[  3.92908611e-01,   2.25746144e-03],\n",
      "       [  2.25746144e-03,   4.87859184e+01]])\n",
      "      jac: array([ -2.38418579e-07,   7.62939453e-06])\n",
      "  message: 'Optimization terminated successfully.'\n",
      "     nfev: 132\n",
      "      nit: 29\n",
      "     njev: 33\n",
      "   status: 0\n",
      "  success: True\n",
      "        x: array([ 4.99999993, -1.99838744])\n"
     ]
    }
   ],
   "source": [
    "from scipy import optimize\n",
    "\n",
    "def f(x):\n",
    "    return (x[0]-5)**2 + (x[1]+2)**3 - 17\n",
    "\n",
    "#Минимум функции\n",
    "print \"F min =\",optimize.minimize(f,[-1000,1000])"
   ]
  },
  {
   "cell_type": "markdown",
   "metadata": {},
   "source": [
    "### Вектора"
   ]
  },
  {
   "cell_type": "code",
   "execution_count": 65,
   "metadata": {},
   "outputs": [
    {
     "name": "stdout",
     "output_type": "stream",
     "text": [
      "Векторы: [ 1 -2  3 -4  7] \n",
      "[-6 -6  4  8  9] \n",
      "\n",
      "Норма L1= 17.0 \n",
      "Норма L2= 8.88819441732\n",
      "Расстояние L1= 26.0\n",
      "Расстояние L2= [[ 14.62873884]]\n",
      "\n",
      "Cos= 0.361164099419\n",
      "\n",
      "Изменение размерности:  [[ 1 -2  3 -4  7]]\n",
      "Добавление фиктивной строки: [[-6 -6  4  8  9]]\n"
     ]
    }
   ],
   "source": [
    "from numpy.linalg import norm\n",
    "from scipy.spatial.distance import cdist\n",
    "\n",
    "vector = np.array([1,-2,3,-4,7])\n",
    "vector2 = np.array([-6,-6,4,8,9])\n",
    "print \"Векторы:\",vector,\"\\n\",vector2,\"\\n\"\n",
    "\n",
    "#Норма - длина вектора\n",
    "print \"Норма L1=\",norm(vector,ord=1),\"\\nНорма L2=\",norm(vector,ord=2)\n",
    "\n",
    "#Метрика - расстояние между векторами\n",
    "print \"Расстояние L1=\",norm(vector-vector2,ord=1)\n",
    "print \"Расстояние L2=\",cdist(vector[np.newaxis,:],vector2[np.newaxis,:],metric='euclidean')\n",
    "\n",
    "#Косинусное расстояние\n",
    "print \"\\nCos=\",np.dot(vector,vector2)/norm(vector)/norm(vector2)\n",
    "\n",
    "#Изменение размерности\n",
    "print \"\\nИзменение размерности: \",vector.reshape((1,5))\n",
    "print \"Добавление фиктивной строки:\",vector2[np.newaxis,:]"
   ]
  },
  {
   "cell_type": "markdown",
   "metadata": {},
   "source": [
    "### Матрицы"
   ]
  },
  {
   "cell_type": "code",
   "execution_count": 69,
   "metadata": {},
   "outputs": [
    {
     "name": "stdout",
     "output_type": "stream",
     "text": [
      "Исходная матрица:\n",
      "[[ 1  7  3]\n",
      " [-5  4  9]\n",
      " [-5 -8  3]]\n",
      "\n",
      "x= [ 5.61111111 -2.11111111  4.72222222]\n",
      "y= [ 5.  6.  3.]\n",
      "det= 54.0\n",
      "rang= 3\n",
      "\n",
      "Транспонирование:\n",
      "[[ 1 -5 -5]\n",
      " [ 7  4 -8]\n",
      " [ 3  9  3]]\n",
      "\n",
      "Обращение:\n",
      "[[ 1.55555556 -0.83333333  0.94444444]\n",
      " [-0.55555556  0.33333333 -0.44444444]\n",
      " [ 1.11111111 -0.5         0.72222222]]\n",
      "\n",
      "Собственные числа: [ 0.39123869 +0.j          3.80438065+11.11529784j  3.80438065-11.11529784j]\n",
      "\n",
      "Собственные вектора:\n",
      "[[ 0.77560086+0.j          0.25568834-0.37966285j  0.25568834+0.37966285j]\n",
      " [-0.30443327+0.j          0.65048307+0.j          0.65048307-0.j        ]\n",
      " [ 0.55295903+0.j          0.12791052+0.59244432j  0.12791052-0.59244432j]]\n"
     ]
    }
   ],
   "source": [
    "#Решение системы уравнений\n",
    "from scipy import linalg\n",
    "koef_matrix = np.array([[1,7,3],[-5,4,9],[-5,-8,3]])\n",
    "print \"Исходная матрица:\\n\",koef_matrix\n",
    "y = [5,6,3]\n",
    "x = linalg.solve(koef_matrix,y)\n",
    "print \"\\nx=\",x\n",
    "\n",
    "#Скалярное произведение или умножение\n",
    "print \"y=\",np.dot(koef_matrix,x)\n",
    "\n",
    "#Определитель\n",
    "print \"det=\",np.linalg.det(koef_matrix)\n",
    "\n",
    "#Ранг\n",
    "print \"rang=\",np.linalg.matrix_rank(koef_matrix)\n",
    "\n",
    "#Транспонирование\n",
    "print \"\\nТранспонирование:\\n\",np.transpose(koef_matrix)\n",
    "\n",
    "#Обращение\n",
    "print \"\\nОбращение:\\n\",np.linalg.inv(koef_matrix)\n",
    "\n",
    "#Собственные числа и вектора\n",
    "w,v = np.linalg.eig(koef_matrix)\n",
    "print \"\\nСобственные числа:\",w\n",
    "print \"\\nСобственные вектора:\\n\",v"
   ]
  }
 ],
 "metadata": {
  "kernelspec": {
   "display_name": "Python 2",
   "language": "python",
   "name": "python2"
  },
  "language_info": {
   "codemirror_mode": {
    "name": "ipython",
    "version": 2
   },
   "file_extension": ".py",
   "mimetype": "text/x-python",
   "name": "python",
   "nbconvert_exporter": "python",
   "pygments_lexer": "ipython2",
   "version": "2.7.13"
  }
 },
 "nbformat": 4,
 "nbformat_minor": 2
}
