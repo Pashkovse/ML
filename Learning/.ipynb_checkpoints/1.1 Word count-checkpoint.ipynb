{
 "cells": [
  {
   "cell_type": "markdown",
   "metadata": {},
   "source": [
    "# Поиск схожих предложений"
   ]
  },
  {
   "cell_type": "code",
   "execution_count": null,
   "metadata": {
    "collapsed": true
   },
   "outputs": [],
   "source": [
    "#Импорт\n",
    "\n",
    "import re\n",
    "import numpy as np\n",
    "from scipy.spatial.distance import cosine"
   ]
  },
  {
   "cell_type": "code",
   "execution_count": null,
   "metadata": {
    "collapsed": true
   },
   "outputs": [],
   "source": [
    "#Формирование словаря\n",
    "def linesToWordsDict(lines,delimiter):\n",
    "    words = dict()    \n",
    "    for line in lines:\n",
    "        for word in filter(None,re.split(delimiter,line)):\n",
    "            if word not in words:\n",
    "                words[word] = 0 # or 1\n",
    "            else:\n",
    "                words[word] += 1 \n",
    "    return words"
   ]
  },
  {
   "cell_type": "code",
   "execution_count": null,
   "metadata": {
    "collapsed": true
   },
   "outputs": [],
   "source": [
    "#Формирование матрицы вхождений\n",
    "def linesToMatrix(lines,words,delimiter):\n",
    "    linesCount = len(lines)\n",
    "    wordsCount = len(words)\n",
    "    matrix = np.zeros((linesCount,wordsCount))\n",
    "    for i in range(0,linesCount,1):\n",
    "        lineWords = list(filter(None,re.split(delimiter,lines[i])))\n",
    "        for j in range(0,wordsCount,1):\n",
    "            dictWord = list(words.keys())[j]\n",
    "            for lineWord in lineWords:\n",
    "                if (dictWord == lineWord):\n",
    "                    matrix[i][j] +=1 \n",
    "    return matrix "
   ]
  },
  {
   "cell_type": "code",
   "execution_count": null,
   "metadata": {
    "collapsed": true
   },
   "outputs": [],
   "source": [
    "#Поиск схожих предложения\n",
    "def matchSentence (sentenceNum, matrix, n):\n",
    "    cos_values = []\n",
    "    out = []    \n",
    "    for row in range(0,len(matrix),1):\n",
    "        cos_values.append(cosine(matrix[sentenceNum],matrix[row]))\n",
    "    for i in range(0,n,1):        \n",
    "        val = min(cos_values)\n",
    "        #ind = cos_values.ind(val)\n",
    "        cos_values.remove(val)\n",
    "        out.append(val)\n",
    "    return out  "
   ]
  },
  {
   "cell_type": "code",
   "execution_count": null,
   "metadata": {
    "collapsed": true
   },
   "outputs": [],
   "source": [
    "file = open('sentences.txt','r')\n",
    "lines = file.readlines()\n",
    "lines = list(map(lambda x : x.lower(),lines))\n",
    "words = linesToWordsDict(lines,'[^a-z]')\n",
    "matrix = linesToMatrix(lines,words,'[^a-z]')\n",
    "result = matchSentence(0,matrix,3)\n",
    "\n",
    "print (result)"
   ]
  }
 ],
 "metadata": {
  "kernelspec": {
   "display_name": "Python 2",
   "language": "python",
   "name": "python2"
  },
  "language_info": {
   "codemirror_mode": {
    "name": "ipython",
    "version": 2
   },
   "file_extension": ".py",
   "mimetype": "text/x-python",
   "name": "python",
   "nbconvert_exporter": "python",
   "pygments_lexer": "ipython2",
   "version": "2.7.14"
  }
 },
 "nbformat": 4,
 "nbformat_minor": 2
}
