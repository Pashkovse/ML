{
 "cells": [
  {
   "cell_type": "markdown",
   "metadata": {},
   "source": [
    "# Конспект + Пример оптимизации функции"
   ]
  },
  {
   "cell_type": "markdown",
   "metadata": {},
   "source": [
    "Импорт библиотек"
   ]
  },
  {
   "cell_type": "code",
   "execution_count": null,
   "metadata": {
    "collapsed": true
   },
   "outputs": [],
   "source": [
    "import numpy as np\n",
    "from matplotlib import pylab as plt\n",
    "from math import sin,exp\n",
    "from scipy import optimize"
   ]
  },
  {
   "cell_type": "markdown",
   "metadata": {
    "collapsed": true
   },
   "source": [
    "Предел - величина, к которой стремится значение рассматриваемой функции при стремлении её аргумента к данной точке.\n",
    "\n",
    "$lim_{x->a} f(x) = f(lim_{x->a} x) = f(a) = \\frac{x, y}{\\left| x \\right| | y |}$"
   ]
  },
  {
   "cell_type": "markdown",
   "metadata": {},
   "source": [
    "Производная - отношение приращений функции и агрумента, коэффициент наклона касательной, скорость роста.\n",
    "\n",
    "$f'(x) = lim_{∆x->0}\\frac {f(x+∆x)−f(x)}{∆x} = k$"
   ]
  },
  {
   "cell_type": "markdown",
   "metadata": {},
   "source": [
    "Дифференциал - линейная часть приращения функции.\n",
    "\n",
    "$df = f'(x_0)dx$, $dx = ∆x$"
   ]
  },
  {
   "cell_type": "markdown",
   "metadata": {},
   "source": [
    "Достаточное условие экстремума - $f'(x)=0$ + строго выпукла (min) $f''(x) > 0$, или наоборот (max)."
   ]
  },
  {
   "cell_type": "markdown",
   "metadata": {},
   "source": [
    "#### Пример оптимизации функции"
   ]
  },
  {
   "cell_type": "markdown",
   "metadata": {},
   "source": [
    "Определение функции"
   ]
  },
  {
   "cell_type": "code",
   "execution_count": null,
   "metadata": {
    "collapsed": true
   },
   "outputs": [],
   "source": [
    "def f(x):   # The rosenbrock function\n",
    "    return .5*(1 - x[0])**2 + (x[1] - x[0]**2)**2\n",
    "    \n",
    "print (f([1, 1]))"
   ]
  },
  {
   "cell_type": "markdown",
   "metadata": {},
   "source": [
    "Оптимизация функции различными методами"
   ]
  },
  {
   "cell_type": "code",
   "execution_count": null,
   "metadata": {
    "collapsed": true
   },
   "outputs": [],
   "source": [
    "print ('Перебор ',optimize.brute(f, ((-5, 5), (-5, 5))))\n",
    "print ('\\nЭволюция ',optimize.differential_evolution(f, ((-5, 5), (-5, 5))))\n",
    "print ('\\nBFGS  ',optimize.minimize(f, [2, 2], method='BFGS'))\n",
    "print ('\\nНелдер-Мид  ',optimize.minimize(f, [2, 2], method='Nelder-Mead'))"
   ]
  }
 ],
 "metadata": {
  "kernelspec": {
   "display_name": "Python 2",
   "language": "python",
   "name": "python2"
  },
  "language_info": {
   "codemirror_mode": {
    "name": "ipython",
    "version": 2
   },
   "file_extension": ".py",
   "mimetype": "text/x-python",
   "name": "python",
   "nbconvert_exporter": "python",
   "pygments_lexer": "ipython2",
   "version": "2.7.14"
  }
 },
 "nbformat": 4,
 "nbformat_minor": 2
}
