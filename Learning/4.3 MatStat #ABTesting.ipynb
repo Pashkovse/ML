{
 "cells": [
  {
   "cell_type": "markdown",
   "metadata": {},
   "source": [
    "# AБ-тестирование"
   ]
  },
  {
   "cell_type": "markdown",
   "metadata": {},
   "source": [
    "#### Импорты"
   ]
  },
  {
   "cell_type": "code",
   "execution_count": 1,
   "metadata": {},
   "outputs": [
    {
     "name": "stdout",
     "output_type": "stream",
     "text": [
      "Populating the interactive namespace from numpy and matplotlib\n"
     ]
    }
   ],
   "source": [
    "import numpy as np\n",
    "import pandas as pd\n",
    "%pylab inline\n",
    "import scipy\n",
    "from scipy import stats\n",
    "from statsmodels.stats.weightstats import *\n",
    "from statsmodels.stats.proportion import proportion_confint\n",
    "from statsmodels.stats.descriptivestats import sign_test"
   ]
  },
  {
   "cell_type": "markdown",
   "metadata": {},
   "source": [
    "#### Переменные"
   ]
  },
  {
   "cell_type": "code",
   "execution_count": 3,
   "metadata": {
    "collapsed": true
   },
   "outputs": [],
   "source": [
    "data = np.random.normal(2600, 3400, 100)\n",
    "mu =2900\n",
    "\n",
    "d1 = np.random.normal(1, 100, 100)\n",
    "d2 = np.random.normal(1, 100, 100)\n",
    "\n",
    "d_ber = np.array(60*[1] + 40*[0])\n",
    "d_ber_alter = np.array(75*[1] + 25*[0])"
   ]
  },
  {
   "cell_type": "markdown",
   "metadata": {},
   "source": [
    "#### Функции"
   ]
  },
  {
   "cell_type": "code",
   "execution_count": null,
   "metadata": {
    "collapsed": true
   },
   "outputs": [],
   "source": [
    "def proportions_diff_z_test(z_stat, alternative = 'two-sided'):\n",
    "    if alternative not in ('two-sided', 'less', 'greater'):\n",
    "        raise ValueError(\"alternative not recognized\\n\"\n",
    "                         \"should be 'two-sided', 'less' or 'greater'\")\n",
    "    \n",
    "    if alternative == 'two-sided':\n",
    "        return 2 * (1 - scipy.stats.norm.cdf(np.abs(z_stat)))\n",
    "    \n",
    "    if alternative == 'less':\n",
    "        return scipy.stats.norm.cdf(z_stat)\n",
    "\n",
    "    if alternative == 'greater':\n",
    "        return 1 - scipy.stats.norm.cdf(z_stat)"
   ]
  },
  {
   "cell_type": "code",
   "execution_count": null,
   "metadata": {
    "collapsed": true
   },
   "outputs": [],
   "source": [
    "def proportions_diff_confint_ind(sample1, sample2, alpha = 0.05):    \n",
    "    z = scipy.stats.norm.ppf(1 - alpha / 2.)\n",
    "    \n",
    "    p1 = float(sum(sample1)) / len(sample1)\n",
    "    p2 = float(sum(sample2)) / len(sample2)\n",
    "    \n",
    "    left_boundary = (p1 - p2) - z * np.sqrt(p1 * (1 - p1)/ len(sample1) + p2 * (1 - p2)/ len(sample2))\n",
    "    right_boundary = (p1 - p2) + z * np.sqrt(p1 * (1 - p1)/ len(sample1) + p2 * (1 - p2)/ len(sample2))\n",
    "    \n",
    "    return (left_boundary, right_boundary)"
   ]
  },
  {
   "cell_type": "code",
   "execution_count": null,
   "metadata": {
    "collapsed": true
   },
   "outputs": [],
   "source": [
    "def proportions_diff_z_stat_ind(sample1, sample2):\n",
    "    n1 = len(sample1)\n",
    "    n2 = len(sample2)\n",
    "    \n",
    "    p1 = float(sum(sample1)) / n1\n",
    "    p2 = float(sum(sample2)) / n2 \n",
    "    P = float(p1*n1 + p2*n2) / (n1 + n2)\n",
    "    \n",
    "    return (p1 - p2) / np.sqrt(P * (1 - P) * (1. / n1 + 1. / n2))"
   ]
  },
  {
   "cell_type": "code",
   "execution_count": null,
   "metadata": {
    "collapsed": true
   },
   "outputs": [],
   "source": [
    "def proportions_diff_confint_rel(sample1, sample2, alpha = 0.05):\n",
    "    z = scipy.stats.norm.ppf(1 - alpha / 2.)\n",
    "    sample = zip(sample1, sample2)\n",
    "    n = len(sample)\n",
    "        \n",
    "    f = sum([1 if (x[0] == 1 and x[1] == 0) else 0 for x in sample])\n",
    "    g = sum([1 if (x[0] == 0 and x[1] == 1) else 0 for x in sample])\n",
    "    \n",
    "    left_boundary = float(f - g) / n  - z * np.sqrt(float((f + g)) / n**2 - float((f - g)**2) / n**3)\n",
    "    right_boundary = float(f - g) / n  + z * np.sqrt(float((f + g)) / n**2 - float((f - g)**2) / n**3)\n",
    "    return (left_boundary, right_boundary)"
   ]
  },
  {
   "cell_type": "code",
   "execution_count": null,
   "metadata": {
    "collapsed": true
   },
   "outputs": [],
   "source": [
    "def proportions_diff_z_stat_rel(sample1, sample2):\n",
    "    sample = zip(sample1, sample2)\n",
    "    n = len(sample)\n",
    "    \n",
    "    f = sum([1 if (x[0] == 1 and x[1] == 0) else 0 for x in sample])\n",
    "    g = sum([1 if (x[0] == 0 and x[1] == 1) else 0 for x in sample])\n",
    "    \n",
    "    return float(f - g) / np.sqrt(f + g - float((f - g)**2) / n )"
   ]
  },
  {
   "cell_type": "code",
   "execution_count": 8,
   "metadata": {
    "collapsed": true
   },
   "outputs": [],
   "source": [
    "def permutation_t_stat_1sample(sample, mean):\n",
    "    t_stat = sum(map(lambda x: x - mean, sample))\n",
    "    return t_stat"
   ]
  },
  {
   "cell_type": "code",
   "execution_count": 9,
   "metadata": {
    "collapsed": true
   },
   "outputs": [],
   "source": [
    "def permutation_zero_distr_1sample(sample, mean, max_permutations = None):\n",
    "    centered_sample = map(lambda x: x - mean, sample)\n",
    "    if max_permutations:\n",
    "        signs_array = set([tuple(x) for x in 2 * np.random.randint(2, size = (max_permutations, \n",
    "                                                                              len(sample))) - 1 ])\n",
    "    else:\n",
    "        signs_array =  itertools.product([-1, 1], repeat = len(sample))\n",
    "    distr = [sum(centered_sample * np.array(signs)) for signs in signs_array]\n",
    "    return distr"
   ]
  },
  {
   "cell_type": "code",
   "execution_count": 10,
   "metadata": {
    "collapsed": true
   },
   "outputs": [],
   "source": [
    "def permutation_test(sample, mean, max_permutations = None, alternative = 'two-sided'):\n",
    "    if alternative not in ('two-sided', 'less', 'greater'):\n",
    "        raise ValueError(\"alternative not recognized\\n\"\n",
    "                         \"should be 'two-sided', 'less' or 'greater'\")\n",
    "    \n",
    "    t_stat = permutation_t_stat_1sample(sample, mean)\n",
    "    \n",
    "    zero_distr = permutation_zero_distr_1sample(sample, mean, max_permutations)\n",
    "    \n",
    "    if alternative == 'two-sided':\n",
    "        return sum([1. if abs(x) >= abs(t_stat) else 0. for x in zero_distr]) / len(zero_distr)\n",
    "    \n",
    "    if alternative == 'less':\n",
    "        return sum([1. if x <= t_stat else 0. for x in zero_distr]) / len(zero_distr)\n",
    "\n",
    "    if alternative == 'greater':\n",
    "        return sum([1. if x >= t_stat else 0. for x in zero_distr]) / len(zero_distr)"
   ]
  },
  {
   "cell_type": "code",
   "execution_count": 19,
   "metadata": {
    "collapsed": true
   },
   "outputs": [],
   "source": [
    "def permutation_t_stat_ind(sample1, sample2):\n",
    "    return np.mean(sample1) - np.mean(sample2)"
   ]
  },
  {
   "cell_type": "code",
   "execution_count": 20,
   "metadata": {
    "collapsed": true
   },
   "outputs": [],
   "source": [
    "def get_random_combinations(n1, n2, max_combinations):\n",
    "    index = range(n1 + n2)\n",
    "    indices = set([tuple(index)])\n",
    "    for i in range(max_combinations - 1):\n",
    "        np.random.shuffle(index)\n",
    "        indices.add(tuple(index))\n",
    "    return [(index[:n1], index[n1:]) for index in indices]"
   ]
  },
  {
   "cell_type": "code",
   "execution_count": 21,
   "metadata": {
    "collapsed": true
   },
   "outputs": [],
   "source": [
    "def permutation_zero_dist_ind(sample1, sample2, max_combinations = None):\n",
    "    joined_sample = np.hstack((sample1, sample2))\n",
    "    n1 = len(sample1)\n",
    "    n = len(joined_sample)\n",
    "    \n",
    "    if max_combinations:\n",
    "        indices = get_random_combinations(n1, len(sample2), max_combinations)\n",
    "    else:\n",
    "        indices = [(list(index), filter(lambda i: i not in index, range(n))) \\\n",
    "                    for index in itertools.combinations(range(n), n1)]\n",
    "    \n",
    "    distr = [joined_sample[list(i[0])].mean() - joined_sample[list(i[1])].mean() \\\n",
    "             for i in indices]\n",
    "    return distr"
   ]
  },
  {
   "cell_type": "code",
   "execution_count": 22,
   "metadata": {
    "collapsed": true
   },
   "outputs": [],
   "source": [
    "def permutation_test_ind(sample, mean, max_permutations = None, alternative = 'two-sided'):\n",
    "    if alternative not in ('two-sided', 'less', 'greater'):\n",
    "        raise ValueError(\"alternative not recognized\\n\"\n",
    "                         \"should be 'two-sided', 'less' or 'greater'\")\n",
    "    \n",
    "    t_stat = permutation_t_stat_ind(sample, mean)\n",
    "    \n",
    "    zero_distr = permutation_zero_dist_ind(sample, mean, max_permutations)\n",
    "    \n",
    "    if alternative == 'two-sided':\n",
    "        return sum([1. if abs(x) >= abs(t_stat) else 0. for x in zero_distr]) / len(zero_distr)\n",
    "    \n",
    "    if alternative == 'less':\n",
    "        return sum([1. if x <= t_stat else 0. for x in zero_distr]) / len(zero_distr)\n",
    "\n",
    "    if alternative == 'greater':\n",
    "        return sum([1. if x >= t_stat else 0. for x in zero_distr]) / len(zero_distr)"
   ]
  },
  {
   "cell_type": "markdown",
   "metadata": {},
   "source": [
    "#### Введение"
   ]
  },
  {
   "cell_type": "markdown",
   "metadata": {},
   "source": [
    "АБ-тестирование - контрольная группа элементов сравнивается с наборами тестовых групп, в которых несколько показателей изменены, для того чтобы понять какие изменения улучшают целевой показатель. Важное свойство - устойчивость, незначительные изменения -> незначительное влияние и наоборот. Обычно полезно до АБ тестов выполнить АА тесты, в которых группам показываются одинаковые показатели. Если изменений нет или они незначительны, значит все ок.\n",
    "\n",
    "Параметрические критерии - в проверяемых гипотезах высказывается предположение о параметре распределения."
   ]
  },
  {
   "cell_type": "markdown",
   "metadata": {},
   "source": [
    "#### Одновыборочный критерий Стьюдента. \n",
    "\n",
    "Есть выборка Х с нормальным распределением N(m,sigma^2). (Вес рождаемости детей из малообеспеченных семей.)\n",
    "\n",
    "Нулевая гипотеза - средние равны. H0: m = m0. (Программа не эффективна, вес в среднем не меняется)\n",
    "\n",
    "Альтернативная - средние как то не равны H1: \n",
    "\n",
    "m < m0 -> F_st (t) (Программа эффективна положительно, вес в среднем увеличивается)\n",
    "\n",
    "m > m0 ->  1-F_st(t) (Программа эффективна отрицательно, вес в среднем уменьшается)\n",
    "\n",
    "m != m0 -> 2*(1 - F_st(t)) (Программа эффективна, вес в среднем как то меняется)\n",
    "\n",
    "\n",
    "Статистика Т = $\\frac{X_{vib_sr} - m_0}{sigma_{vib_sr} / \\sqrt{n}}$ \n",
    "\n",
    "Нулевое распределение St(n-1)\n",
    "\n"
   ]
  },
  {
   "cell_type": "code",
   "execution_count": null,
   "metadata": {
    "collapsed": true
   },
   "outputs": [],
   "source": [
    "#P-value.Если > 0.05 значит H0 верна, mu действительно где-то по середине\n",
    "stats.ttest_1samp(data, mu)\n",
    "\n",
    "#95% доверительный интервал среднего\n",
    "zconfint(data)"
   ]
  },
  {
   "cell_type": "markdown",
   "metadata": {},
   "source": [
    "#### Двухвыборочный критерий Стьюдента (независимые выборки)"
   ]
  },
  {
   "cell_type": "markdown",
   "metadata": {},
   "source": [
    "Есть 2 выборки X1 и X2\n",
    "\n",
    "...\n",
    "\n",
    "Статистика $T=\\frac{X_{1 sr} - X_{2 sr}}{\\sqrt{sigma_{1 sr}^2 / n1 + sigma_{2 sr}^2 / n2}}$\n",
    "\n",
    "Нулевое распределение приблизительно St(v), где v - число степеней свободы\n",
    "\n",
    "Используется когда размеры выборок одинаковы или знак неравенста размеров такой же как у дисперсий."
   ]
  },
  {
   "cell_type": "code",
   "execution_count": null,
   "metadata": {
    "collapsed": true
   },
   "outputs": [],
   "source": [
    "#p > 0.05 значит среднии выборок равны, H0 - верна\n",
    "scipy.stats.ttest_ind(d1, d2, equal_var = False)\n",
    "\n",
    "#95% интервал разности, в интервале есть 0 -> сделать вывод нельзя, если интервал всегде > 0, то H0 отвергается\n",
    "cm = CompareMeans(DescrStatsW(d1), DescrStatsW(d2))\n",
    "cm.tconfint_diff(usevar='unequal')"
   ]
  },
  {
   "cell_type": "markdown",
   "metadata": {},
   "source": [
    "#### Двухвыборочный критерий Стьюдента (зависимые выборки)"
   ]
  },
  {
   "cell_type": "markdown",
   "metadata": {},
   "source": [
    "Есть 2 выборки X1 и X2. Данный критерий эквивалентен одновыборочному t-критерию, применимому к выборке попарных разностей.\n",
    "\n",
    "...\n",
    "\n",
    "Статистика $T =\\frac{X_{1 sr} - X_{2 sr}}{sigma / \\sqrt{n}}$ ,\n",
    "\n",
    "$sigma^2 = \\frac{1}{n-1} * \\sum(D_i - D_{sr})^2$\n",
    "\n",
    "$D_i = X_{1i} - X_{2i}$"
   ]
  },
  {
   "cell_type": "code",
   "execution_count": null,
   "metadata": {
    "collapsed": true
   },
   "outputs": [],
   "source": [
    "#p > 00.5 значит H0 верна и средние похожи\n",
    "stats.ttest_rel(d1, d2)\n",
    "\n",
    "#95% интервал попарной разности\n",
    "DescrStatsW(d1 - d2).tconfint_mean()"
   ]
  },
  {
   "cell_type": "markdown",
   "metadata": {},
   "source": [
    "#### Проверка на нормальность"
   ]
  },
  {
   "cell_type": "markdown",
   "metadata": {},
   "source": [
    "Есть выборка X, H0 - она из нормального распределения. X делится на k интервалов. Для каждого интервала считается количество элементов ni и вероятность попадания в интервал при верной H0 - pi. \n",
    "\n",
    "Статистика Хи квадрат $T = \\sum{\\frac{(n_i - n*p_i)^2}{n*p_i}}$, приблизительно распределение Хи со степенью совободы k-1 (m и sigma заданы) или k-3(не заданы).\n",
    "\n",
    "Если статистика из расперделения Хи, то H0-верна. Значение зависит от выбора интервалов.\n",
    "\n",
    "Также можно построить Q-Q график. Выборка сортируется и отображается на график в связке с средними квантилями нормального распределения. На данном графике основан критерий Шапиро-Уилка, который проверяет насколько точки графика отклоняются от прямой. Считается на основе табулированных средних нормального распределения.\n",
    "\n",
    "Общий подход: если признак бинарный или категориальный, то используем что нить другое. Если шкала признака непрерывна, то смотрим по Q-Q. Если выбранный метод чувствителен к отклонениям, то лучше еще построить критерий Шапиро-Уилка."
   ]
  },
  {
   "cell_type": "code",
   "execution_count": 15,
   "metadata": {
    "scrolled": true
   },
   "outputs": [
    {
     "data": {
      "image/png": "[encoded data removed]",
      "text/plain": [
       "<matplotlib.figure.Figure at 0x1020d5810>"
      ]
     },
     "metadata": {},
     "output_type": "display_data"
    }
   ],
   "source": [
    "#Q-Q\n",
    "stats.probplot(data, dist=\"norm\", plot=pylab)\n",
    "pylab.show()"
   ]
  },
  {
   "cell_type": "markdown",
   "metadata": {},
   "source": [
    "Критерий Шапиро-Уилка (p > 0.56 -> H0 верна и данные распределены нормально)"
   ]
  },
  {
   "cell_type": "code",
   "execution_count": 18,
   "metadata": {},
   "outputs": [
    {
     "data": {
      "text/plain": [
       "(0.988703191280365, 0.5614041090011597)"
      ]
     },
     "execution_count": 18,
     "metadata": {},
     "output_type": "execute_result"
    }
   ],
   "source": [
    "stats.shapiro(data)"
   ]
  },
  {
   "cell_type": "markdown",
   "metadata": {},
   "source": [
    "#### Интервальная оценка доли (Бернули)"
   ]
  },
  {
   "cell_type": "markdown",
   "metadata": {},
   "source": [
    "Пример задачи: Интервально оценить долю носителей генов m из популяции размера n."
   ]
  },
  {
   "cell_type": "code",
   "execution_count": 41,
   "metadata": {},
   "outputs": [
    {
     "data": {
      "text/plain": [
       "(0.5020025867910618, 0.6905987135675411)"
      ]
     },
     "execution_count": 41,
     "metadata": {},
     "output_type": "execute_result"
    }
   ],
   "source": [
    "proportion_confint(sum(d_ber),len(d_ber),method = 'wilson')"
   ]
  },
  {
   "cell_type": "code",
   "execution_count": 42,
   "metadata": {},
   "outputs": [
    {
     "data": {
      "text/plain": [
       "(0.656955364519384, 0.8245478863771232)"
      ]
     },
     "execution_count": 42,
     "metadata": {},
     "output_type": "execute_result"
    }
   ],
   "source": [
    "proportion_confint(sum(d_ber_alter),len(d_ber_alter),method = 'wilson')"
   ]
  },
  {
   "cell_type": "markdown",
   "metadata": {},
   "source": [
    "Интервалы двух выборок пересекаются, поэтому сделать вывод однозначно нельзя."
   ]
  },
  {
   "cell_type": "markdown",
   "metadata": {},
   "source": [
    "#### Интервальная оценка  разности долей (независимые выборки)"
   ]
  },
  {
   "cell_type": "markdown",
   "metadata": {},
   "source": [
    "Для независимых выборок. Пример: при испытаниях лекарства есть 2 выборки испытуемых X1 и X2, после эксперимента лучше стало n из X1 и m из X2. Построить доверительный интервал для улучшения состояния испытуемых."
   ]
  },
  {
   "cell_type": "code",
   "execution_count": 48,
   "metadata": {},
   "outputs": [
    {
     "data": {
      "text/plain": [
       "(-0.27814927412384116, -0.021850725876158883)"
      ]
     },
     "execution_count": 48,
     "metadata": {},
     "output_type": "execute_result"
    }
   ],
   "source": [
    "#95% интервал разности долей, обе границы интервала < 0, значит альтернатива значимо лучше\n",
    "proportions_diff_confint_ind(d_ber, d_ber_alter)"
   ]
  },
  {
   "cell_type": "code",
   "execution_count": 52,
   "metadata": {},
   "outputs": [
    {
     "data": {
      "text/plain": [
       "0.011770029130588954"
      ]
     },
     "execution_count": 52,
     "metadata": {},
     "output_type": "execute_result"
    }
   ],
   "source": [
    "#p-value < 0.05 значит среднее d_ber < среднего d_ber_alter -> H0 что средние одинаковы неверна\n",
    "proportions_diff_z_test(proportions_diff_z_stat_ind(d_ber, d_ber_alter),'less')"
   ]
  },
  {
   "cell_type": "markdown",
   "metadata": {},
   "source": [
    "#### Интервальная оценка разности долей (зависимые выборки)"
   ]
  },
  {
   "cell_type": "markdown",
   "metadata": {},
   "source": [
    "Для зависимых выборок. Пример: при тестировании новой кнопки есть 2 выборки лайков, которые ставили одни и те же люди. Построить доверительный интервал для повышения лайков при использовании новой кнопки."
   ]
  },
  {
   "cell_type": "code",
   "execution_count": 145,
   "metadata": {
    "scrolled": true
   },
   "outputs": [
    {
     "data": {
      "text/plain": [
       "(-0.2199847125905723, -0.08001528740942768)"
      ]
     },
     "execution_count": 145,
     "metadata": {},
     "output_type": "execute_result"
    }
   ],
   "source": [
    "#Доверительный интервал разности зависимых выборок показывает, что альтернатива значимо лучше.\n",
    "proportions_diff_confint_rel(d_ber, d_ber_alter)"
   ]
  },
  {
   "cell_type": "code",
   "execution_count": 56,
   "metadata": {},
   "outputs": [
    {
     "data": {
      "text/plain": [
       "1.3296309275393274e-05"
      ]
     },
     "execution_count": 56,
     "metadata": {},
     "output_type": "execute_result"
    }
   ],
   "source": [
    "#p-value очень мал, что указывает на большую уверенность в ложности H0.\n",
    "proportions_diff_z_test(proportions_diff_z_stat_rel(d_ber, d_ber_alter), 'less')"
   ]
  },
  {
   "cell_type": "markdown",
   "metadata": {},
   "source": [
    "#### Критерий знаков\n",
    "\n",
    "Используется когда распределения выборки X из неизвестно. \n",
    "\n",
    "Для одной выборки.\n",
    "Пример: есть 23 наблюдения длительности ремонта. H0: медиана X = 8ч., H1: медиана != 8ч. Считаем статистику $T=\\sum(X_i > 8)$. Если H0 справедлива, то T имеет биноминальное распределение с параметрами n и 0.5. В итоге ремонт в 23 случаях длился > 8 часов, p_val = 0.105. Нулевая гипотеза не отвергается. "
   ]
  },
  {
   "cell_type": "code",
   "execution_count": 4,
   "metadata": {},
   "outputs": [
    {
     "data": {
      "text/plain": [
       "(-2.0, 0.7643534344026666)"
      ]
     },
     "execution_count": 4,
     "metadata": {},
     "output_type": "execute_result"
    }
   ],
   "source": [
    "sign_test(d1, 0.5)"
   ]
  },
  {
   "cell_type": "markdown",
   "metadata": {},
   "source": [
    "Для связных выборок T = сумме индикаторов того что X_1i > X_2i. H0: P(X1 > X2) = 0.5. H1: P(X1 > X2) > 0.5. Нулевое распределение такое же. Пример: есть 2 классификатора 14 датасетов. По оценкам точности можно проверить какой классификатор лучше."
   ]
  },
  {
   "cell_type": "code",
   "execution_count": 13,
   "metadata": {},
   "outputs": [
    {
     "data": {
      "text/plain": [
       "(4.0, 0.4841184136072908)"
      ]
     },
     "execution_count": 13,
     "metadata": {},
     "output_type": "execute_result"
    }
   ],
   "source": [
    "sign_test(d1 - d2)"
   ]
  },
  {
   "cell_type": "markdown",
   "metadata": {},
   "source": [
    "#### Критерий рангов\n",
    "\n",
    "Также используется когда распределение выборки неизвестно. Выборки превращают в ранги, затем делается какое-то дополни- тельное предположение, и на основании этого предположения получается, что разные конфигурации этих рангов при справедливости нулевой гипотезы могут реализоваться с равной вероятностью. Далее необходимо перебрать все конфигурации, и на каждой посчитать значение статистики — таким образом оценивается ее нулевое распределение.\n",
    "\n",
    "Для одной выборки. Строим вариационный ряд(упорядочиваем элементы по неубыванию). Совпадающие элементы образуют связки и получают общий ранг = (k1+k2)/2. Ранг - позиция в вариационном ряду. Пример: есть 23 дивана, проверить соответствует ли длина стандартному размеру m. Распределение T - табличное.\n",
    "\n",
    "H0: medX=m\n",
    "\n",
    "$T = \\sum(rank(|X_i-m|) * sign(X_i - m))$ "
   ]
  },
  {
   "cell_type": "code",
   "execution_count": 5,
   "metadata": {},
   "outputs": [
    {
     "data": {
      "text/plain": [
       "WilcoxonResult(statistic=2450.0, pvalue=0.7965038710035247)"
      ]
     },
     "execution_count": 5,
     "metadata": {},
     "output_type": "execute_result"
    }
   ],
   "source": [
    "stats.wilcoxon(d1 - 0.5)"
   ]
  },
  {
   "cell_type": "markdown",
   "metadata": {},
   "source": [
    "Для связных выборок. Нулевое распределение T также табличное.\n",
    "\n",
    "H0: med(X1-X2)=0. \n",
    "\n",
    "H1: !=. \n",
    "\n",
    "$T = \\sum(rank(|X_{1i}-X_{2i}|) * sign(X_{1i}-X_{2i}))$"
   ]
  },
  {
   "cell_type": "code",
   "execution_count": 16,
   "metadata": {},
   "outputs": [
    {
     "data": {
      "text/plain": [
       "WilcoxonResult(statistic=2317.0, pvalue=0.4745030356140598)"
      ]
     },
     "execution_count": 16,
     "metadata": {},
     "output_type": "execute_result"
    }
   ],
   "source": [
    "stats.wilcoxon(d1 - d2)"
   ]
  },
  {
   "cell_type": "markdown",
   "metadata": {},
   "source": [
    "Для независимых выборок. Нулевое распределение T также табличное. Перед расчетом T выборки объединяются. Если H0 справедлива, то ранг который вычисляется в вариационном ряду по первой выборке, также мог реализоваться и во второй.\n",
    "\n",
    "H0: F_x1(x) = F_x2(x)  \n",
    "\n",
    "H1: F_x1(x) = F_x2(x + delta)\n",
    "\n",
    "$T = \\sum(rank(X_{1i})$ "
   ]
  },
  {
   "cell_type": "code",
   "execution_count": 18,
   "metadata": {},
   "outputs": [
    {
     "data": {
      "text/plain": [
       "MannwhitneyuResult(statistic=4726.0, pvalue=0.2519816315599859)"
      ]
     },
     "execution_count": 18,
     "metadata": {},
     "output_type": "execute_result"
    }
   ],
   "source": [
    "stats.mannwhitneyu(d1, d2)"
   ]
  },
  {
   "cell_type": "markdown",
   "metadata": {},
   "source": [
    "#### Перестановочный критерий\n",
    "\n",
    "Перестановочные критерии принимают на вход выборку (или выборки), считают на них какую-то статистику. Далее делается дополнительное предположение о распределении, из которого эти выборки взяты. Это пред- положение порождает множество перестановок исходных данных, которые могли реализоваться с одинаковой вероятностью, если нулевая гипотеза справедлива. На этих перестановках вычисляется значение статистики и таким образом оценивается ее нулевое распределение.\n",
    "\n",
    "Все то же самое что и ранговый, за исключением шага превращения наблюдений в ранги и вместо вычитания медианы используется вычитание мат. ожидания. Соответственно предположение - функция F(x) симметрична относительно мат. ожидания. Фактический уровень значимости - доля перебираемых перестановок, на которых получается такое же или более экстремальное значение T. Статистику перестановочных критериев можно выбирать по разному: сумма элементов, выборочное среднее и др."
   ]
  },
  {
   "cell_type": "code",
   "execution_count": 11,
   "metadata": {},
   "outputs": [
    {
     "data": {
      "text/plain": [
       "0.8036"
      ]
     },
     "execution_count": 11,
     "metadata": {},
     "output_type": "execute_result"
    }
   ],
   "source": [
    "#Одна выборка\n",
    "permutation_test(d1, 0.5, 10000)"
   ]
  },
  {
   "cell_type": "code",
   "execution_count": 17,
   "metadata": {},
   "outputs": [
    {
     "data": {
      "text/plain": [
       "0.5681"
      ]
     },
     "execution_count": 17,
     "metadata": {},
     "output_type": "execute_result"
    }
   ],
   "source": [
    "#Зависимые выборки\n",
    "permutation_test(d1-d2, 0.5, 10000)"
   ]
  },
  {
   "cell_type": "code",
   "execution_count": 23,
   "metadata": {},
   "outputs": [
    {
     "data": {
      "text/plain": [
       "0.5269"
      ]
     },
     "execution_count": 23,
     "metadata": {},
     "output_type": "execute_result"
    }
   ],
   "source": [
    "#Независимые выборки\n",
    "permutation_test_ind(d1, d2, max_permutations = 10000)"
   ]
  },
  {
   "cell_type": "markdown",
   "metadata": {},
   "source": [
    "#### Метод бутстрепа\n",
    "\n",
    "На вход принимается выборка или выбор- ки, считается значение статистики, которая оценивает интересующий параметр. Далее на основании исходных данных генерируется множество бутстреп-псевдовыборок, и на этих псевдовыборках вычисляются значения интересующей статистики, то есть оценивается ее распределение. \n",
    "\n",
    "Не используется дополнительное предположение. Бутстреп- псевдовыборки могут содержать по несколько копий элементов исходной выборки, а перестановки нет.\n",
    "\n"
   ]
  }
 ],
 "metadata": {
  "kernelspec": {
   "display_name": "Python 2",
   "language": "python",
   "name": "python2"
  },
  "language_info": {
   "codemirror_mode": {
    "name": "ipython",
    "version": 2
   },
   "file_extension": ".py",
   "mimetype": "text/x-python",
   "name": "python",
   "nbconvert_exporter": "python",
   "pygments_lexer": "ipython2",
   "version": "2.7.14"
  }
 },
 "nbformat": 4,
 "nbformat_minor": 2
}
