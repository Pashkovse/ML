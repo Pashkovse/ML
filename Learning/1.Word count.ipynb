{
 "cells": [
  {
   "cell_type": "markdown",
   "metadata": {},
   "source": [
    "# Поиск похожих предложений"
   ]
  },
  {
   "cell_type": "code",
   "execution_count": null,
   "metadata": {
    "collapsed": true
   },
   "outputs": [],
   "source": [
    "#Импорт\n",
    "\n",
    "import re\n",
    "import numpy as np\n",
    "from scipy.spatial.distance import cosine"
   ]
  },
  {
   "cell_type": "code",
   "execution_count": null,
   "metadata": {
    "collapsed": true
   },
   "outputs": [],
   "source": [
    "#Получение данных\n",
    "\n",
    "file = open('sentences.txt','r')\n",
    "datalist = file.readlines()\n",
    "datalist = map(lambda x : x.lower(), datalist)"
   ]
  },
  {
   "cell_type": "code",
   "execution_count": null,
   "metadata": {
    "collapsed": true
   },
   "outputs": [],
   "source": [
    "#Формирование словаря слов\n",
    "\n",
    "words = dict()\n",
    "for str in datalist: \n",
    "    for word in filter(None,re.split('[^a-z]',str)):\n",
    "        if word not in words:\n",
    "            words[word] = 0\n",
    "        else:\n",
    "            words[word] +=1"
   ]
  },
  {
   "cell_type": "code",
   "execution_count": null,
   "metadata": {
    "collapsed": true
   },
   "outputs": [],
   "source": [
    "#Формирование матрицы предложений\n",
    "\n",
    "n = len(datalist)\n",
    "d = len(words)\n",
    "matrix = np.zeros((n,d))\n",
    "\n",
    "for i in xrange(0,n,1):\n",
    "    words_list = filter(None,re.split('[^a-z]',datalist[i]))\n",
    "    for j in xrange(0,d,1):\n",
    "        find_word = words.keys()[j]\n",
    "        for word in words_list:           \n",
    "            if (word == find_word):\n",
    "                matrix[i][j] +=1           "
   ]
  },
  {
   "cell_type": "code",
   "execution_count": null,
   "metadata": {
    "collapsed": true
   },
   "outputs": [],
   "source": [
    "#Вычисление косинусного расстояния\n",
    "\n",
    "values = []\n",
    "for row in matrix: \n",
    "    values.append(cosine(matrix[0],row))"
   ]
  },
  {
   "cell_type": "code",
   "execution_count": null,
   "metadata": {
    "collapsed": true
   },
   "outputs": [],
   "source": [
    "#Вычисление похожих предложений\n",
    "\n",
    "sub_values = list(values)\n",
    "del sub_values[0]\n",
    "min1_val = min(sub_values)\n",
    "min1_ind = values.index(min1_val)\n",
    "\n",
    "del_ind = sub_values.index(min1_val)\n",
    "del sub_values[del_ind]\n",
    "min2_val = min (sub_values)\n",
    "min2_ind = values.index(min2_val)\n",
    "\n",
    "print '\\nfirst_min',min1_ind,min1_val,'\\n',datalist[min1_ind],'\\n\\n'\n",
    "print 'second_min',min2_ind,min2_val,'\\n',datalist[min2_ind],'\\n\\n'"
   ]
  }
 ],
 "metadata": {
  "kernelspec": {
   "display_name": "Python 2",
   "language": "python",
   "name": "python2"
  },
  "language_info": {
   "codemirror_mode": {
    "name": "ipython",
    "version": 2
   },
   "file_extension": ".py",
   "mimetype": "text/x-python",
   "name": "python",
   "nbconvert_exporter": "python",
   "pygments_lexer": "ipython2",
   "version": "2.7.14"
  }
 },
 "nbformat": 4,
 "nbformat_minor": 2
}
