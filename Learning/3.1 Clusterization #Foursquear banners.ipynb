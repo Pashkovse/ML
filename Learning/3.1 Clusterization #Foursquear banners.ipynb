{
 "cells": [
  {
   "cell_type": "markdown",
   "metadata": {},
   "source": [
    "# Кластеризация\n",
    "Задача сводится к поиску минимума отношения среднего расстояния между объектами в рамках кластера к среднему расстоянию между объектами разных кластеров. Объект может относиться как к одному кластеру (жёсткая кластеризация), так и к многом (мягкая).\n",
    "\n",
    "Подготовким данные для кластеризации текстов. Для этого посчитаем TF-IDF."
   ]
  },
  {
   "cell_type": "code",
   "execution_count": 10,
   "metadata": {
    "collapsed": true
   },
   "outputs": [],
   "source": [
    "from sklearn.feature_extraction.text import CountVectorizer, TfidfVectorizer\n",
    "\n",
    "data = {'rur rur eur usd eur', 'ooo ao pao ooo zao zao zao', 'ivan petr ivan evgenii sergey evgenii', 'pao zao pao zao ooo', \n",
    "        'ivan vasilii evgenii', 'usd usd usd eur eur'}\n",
    "vectorizer = TfidfVectorizer(max_df =5, min_df=2)\n",
    "matrix = vectorizer.fit_transform(data)"
   ]
  },
  {
   "cell_type": "markdown",
   "metadata": {},
   "source": [
    "Словарь"
   ]
  },
  {
   "cell_type": "code",
   "execution_count": 3,
   "metadata": {},
   "outputs": [
    {
     "data": {
      "text/plain": [
       "['eur', 'evgenii', 'ivan', 'ooo', 'pao', 'usd', 'zao']"
      ]
     },
     "execution_count": 3,
     "metadata": {},
     "output_type": "execute_result"
    }
   ],
   "source": [
    "vectorizer.get_feature_names()"
   ]
  },
  {
   "cell_type": "markdown",
   "metadata": {},
   "source": [
    "Матрица значений TF-IFD"
   ]
  },
  {
   "cell_type": "code",
   "execution_count": 4,
   "metadata": {
    "scrolled": true
   },
   "outputs": [
    {
     "data": {
      "text/plain": [
       "array([ 0.89442719,  0.4472136 ,  0.70710678,  0.70710678,  0.53452248,\n",
       "        0.26726124,  0.80178373,  0.33333333,  0.66666667,  0.66666667,\n",
       "        0.70710678,  0.70710678,  0.5547002 ,  0.83205029])"
      ]
     },
     "execution_count": 4,
     "metadata": {},
     "output_type": "execute_result"
    }
   ],
   "source": [
    "matrix.data"
   ]
  },
  {
   "cell_type": "markdown",
   "metadata": {},
   "source": [
    "#### Метод K средних\n",
    "На входе подаётся число кластеров k. Далее выбирается k точек-центров. Остальные точки относят к тому кластеру, расстояние до центра которого минимально. Далее на каждой итерации считается среднее арифметическое, выбирается новый центр, обновляются метки точек. У данного метода есть модификация Bisect Means - на каждой итерации происходит разделение существующих кластеров на 2. Применяется на выпуклых кластерах схожего размера."
   ]
  },
  {
   "cell_type": "code",
   "execution_count": 5,
   "metadata": {},
   "outputs": [
    {
     "name": "stdout",
     "output_type": "stream",
     "text": [
      "[2, 1, 0, 0, 1, 2]\n"
     ]
    }
   ],
   "source": [
    "from sklearn.cluster import KMeans\n",
    "\n",
    "model = KMeans(n_clusters=3, random_state=42)\n",
    "preds = model.fit_predict(matrix.toarray())\n",
    "print (list(preds))"
   ]
  },
  {
   "cell_type": "markdown",
   "metadata": {},
   "source": [
    "#### EM-алгоритм\n",
    "На вход подаётся число компанент N. Плотность вероятности разспеределения точек p(x) представляет собой взвешенную сумму плотностей вероятности в каждом кластере $ p_j(x)$ с весами w (сумма весов = 1). Все $ p_j(x)$ выбираются из семейства распределений $\\phi(\\theta|x)$. Применяется в задаче восстановления плотности. Предполагаются выпуклые кластеры. Плохо масштабируется, нужна большая выборка.\n",
    "\n",
    "E-шаг: вычисляется вероятность принадлежности каждой точки к кластеру $g_{ij} = p(\\theta_j|x_i) = \\frac{w_j * p_j(x_i)}{p(x_i)}$ и фиксируется.\n",
    "\n",
    "M-шаг: обновляются параметры $\\theta_j=argmax \\sum{g_{ij} * ln_\\phi(\\theta|x)}$ и веса $w_j=\\frac{1}{N*\\sum{g_{ij}}}$\n",
    "\n",
    "#### Метод но основе плотности точек\n",
    "На вход подаётся радиус окрестности и количество соседей для основных точек. Точки делятся на основные (в окрестностях есть точки, количество > n), пограничные (в окрестностях есть точки, количество < n, но есть основная), остальные относятся к шумовым. Предполагаются неравные невыпуклые кластеры.\n",
    "\n",
    "#### Иерархические методы\n",
    "Делятся на агломеративные (объединение кластеров) и дивизионные (последовательное деление кластера). Агломеративная кластеризация используется в случае большого количества кластеров."
   ]
  },
  {
   "cell_type": "code",
   "execution_count": 6,
   "metadata": {
    "scrolled": true
   },
   "outputs": [
    {
     "name": "stdout",
     "output_type": "stream",
     "text": [
      "[0, 2, 1, 1, 2, 0]\n"
     ]
    }
   ],
   "source": [
    "from sklearn.cluster.hierarchical import AgglomerativeClustering\n",
    "\n",
    "model = AgglomerativeClustering(n_clusters=3, affinity='cosine', linkage='complete')\n",
    "preds = model.fit_predict(matrix.toarray())\n",
    "print (list(preds))"
   ]
  },
  {
   "cell_type": "markdown",
   "metadata": {},
   "source": [
    "# Задача размещения баннеров"
   ]
  },
  {
   "cell_type": "code",
   "execution_count": 7,
   "metadata": {
    "collapsed": true
   },
   "outputs": [],
   "source": [
    "import numpy as np\n",
    "import pandas as pd\n",
    "from sklearn.cluster import MeanShift\n",
    "import matplotlib.pyplot as plt\n",
    "%matplotlib inline"
   ]
  },
  {
   "cell_type": "markdown",
   "metadata": {},
   "source": [
    "#### Подготовка данных\n",
    "Сформируем датасет из координат наиболее посещаемых мест по данным Foursquear"
   ]
  },
  {
   "cell_type": "code",
   "execution_count": 8,
   "metadata": {},
   "outputs": [
    {
     "data": {
      "text/html": [
       "<div>\n",
       "<style>\n",
       "    .dataframe thead tr:only-child th {\n",
       "        text-align: right;\n",
       "    }\n",
       "\n",
       "    .dataframe thead th {\n",
       "        text-align: left;\n",
       "    }\n",
       "\n",
       "    .dataframe tbody tr th {\n",
       "        vertical-align: top;\n",
       "    }\n",
       "</style>\n",
       "<table border=\"1\" class=\"dataframe\">\n",
       "  <thead>\n",
       "    <tr style=\"text-align: right;\">\n",
       "      <th></th>\n",
       "      <th>latitude</th>\n",
       "      <th>longitude</th>\n",
       "    </tr>\n",
       "  </thead>\n",
       "  <tbody>\n",
       "    <tr>\n",
       "      <th>1</th>\n",
       "      <td>38.895112</td>\n",
       "      <td>-77.036366</td>\n",
       "    </tr>\n",
       "    <tr>\n",
       "      <th>3</th>\n",
       "      <td>33.800745</td>\n",
       "      <td>-84.410520</td>\n",
       "    </tr>\n",
       "    <tr>\n",
       "      <th>7</th>\n",
       "      <td>45.523452</td>\n",
       "      <td>-122.676207</td>\n",
       "    </tr>\n",
       "    <tr>\n",
       "      <th>9</th>\n",
       "      <td>40.764462</td>\n",
       "      <td>-111.904565</td>\n",
       "    </tr>\n",
       "    <tr>\n",
       "      <th>10</th>\n",
       "      <td>33.448377</td>\n",
       "      <td>-112.074037</td>\n",
       "    </tr>\n",
       "  </tbody>\n",
       "</table>\n",
       "</div>"
      ],
      "text/plain": [
       "     latitude   longitude\n",
       "1   38.895112  -77.036366\n",
       "3   33.800745  -84.410520\n",
       "7   45.523452 -122.676207\n",
       "9   40.764462 -111.904565\n",
       "10  33.448377 -112.074037"
      ]
     },
     "execution_count": 8,
     "metadata": {},
     "output_type": "execute_result"
    }
   ],
   "source": [
    "with open('checkins.dat','r') as file:\n",
    "    next(file)\n",
    "    next(file)\n",
    "    df = pd.DataFrame(line.rstrip().split('|') for line in file)\n",
    "\n",
    "df.columns = ['id','user_id','venue_id','latitude','longitude','created_at']\n",
    "df.drop(df.tail(2).index, inplace=True)\n",
    "\n",
    "df['latitude'] = df.latitude.apply(lambda x : x.lstrip().rstrip())\n",
    "df['longitude'] = df.longitude.apply(lambda x : x.lstrip().rstrip())\n",
    "df['created_at'] = df.created_at.apply(lambda x : x.lstrip().rstrip())\n",
    "df = df[df.latitude != '']\n",
    "df['latitude'] = df.latitude.astype(float)\n",
    "df['longitude'] = df.longitude.astype(float)\n",
    "df = df[['latitude','longitude']]\n",
    "\n",
    "df.head()"
   ]
  },
  {
   "cell_type": "markdown",
   "metadata": {},
   "source": [
    "Определим количество кластеров"
   ]
  },
  {
   "cell_type": "code",
   "execution_count": 11,
   "metadata": {
    "scrolled": true
   },
   "outputs": [
    {
     "name": "stdout",
     "output_type": "stream",
     "text": [
      "Number of clusters =  5536\n"
     ]
    }
   ],
   "source": [
    "ms = MeanShift(bandwidth=0.1)\n",
    "ms.fit(df)\n",
    "print(\"Number of clusters = \",len(np.unique(ms.labels_)))"
   ]
  },
  {
   "cell_type": "markdown",
   "metadata": {},
   "source": [
    "Визуализируем центры кластеров"
   ]
  },
  {
   "cell_type": "code",
   "execution_count": 12,
   "metadata": {},
   "outputs": [
    {
     "data": {
      "image/png": "[encoded data removed]",
      "text/plain": [
       "<matplotlib.figure.Figure at 0xd65e358>"
      ]
     },
     "metadata": {},
     "output_type": "display_data"
    }
   ],
   "source": [
    "cluster_centers = ms.cluster_centers_\n",
    "plt.scatter(df['longitude'],df['latitude'], alpha=0.4)\n",
    "plt.scatter(cluster_centers[:,1],cluster_centers[:,0],alpha=0.1)\n",
    "plt.show()"
   ]
  },
  {
   "cell_type": "markdown",
   "metadata": {},
   "source": [
    "Отфильтруем менее посещаемые места"
   ]
  },
  {
   "cell_type": "code",
   "execution_count": 14,
   "metadata": {},
   "outputs": [],
   "source": [
    "label_df = pd.DataFrame(ms.labels_, columns=['X'])\n",
    "clusters = np.unique(label_df.groupby(['X']).filter(lambda x: len(x) > 15))"
   ]
  }
 ],
 "metadata": {
  "kernelspec": {
   "display_name": "Python 3",
   "language": "python",
   "name": "python3"
  },
  "language_info": {
   "codemirror_mode": {
    "name": "ipython",
    "version": 3
   },
   "file_extension": ".py",
   "mimetype": "text/x-python",
   "name": "python",
   "nbconvert_exporter": "python",
   "pygments_lexer": "ipython3",
   "version": "3.6.1"
  }
 },
 "nbformat": 4,
 "nbformat_minor": 2
}
