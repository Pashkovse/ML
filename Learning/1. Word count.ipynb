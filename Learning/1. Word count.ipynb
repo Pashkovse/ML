{
 "cells": [
  {
   "cell_type": "markdown",
   "metadata": {},
   "source": [
    "# Word count"
   ]
  },
  {
   "cell_type": "code",
   "execution_count": 159,
   "metadata": {},
   "outputs": [],
   "source": [
    "import re\n",
    "import numpy as np\n",
    "from scipy.spatial.distance import cosine"
   ]
  },
  {
   "cell_type": "code",
   "execution_count": 102,
   "metadata": {
    "collapsed": true
   },
   "outputs": [],
   "source": [
    "file = open('sentences.txt','r')\n",
    "datalist = file.readlines()"
   ]
  },
  {
   "cell_type": "code",
   "execution_count": null,
   "metadata": {},
   "outputs": [],
   "source": [
    "datalist = map(lambda x : x.lower(), datalist)"
   ]
  },
  {
   "cell_type": "code",
   "execution_count": 296,
   "metadata": {},
   "outputs": [
    {
     "name": "stdout",
     "output_type": "stream",
     "text": [
      "{'displays': 0, 'osx': 0, 'selection': 0, 'safari': 0, 'just': 2, 'developed': 0, 'over': 1, 'vermin': 0, 'domestic': 0, 'named': 0, 'installed': 1, 'symbols': 0, 'through': 0, 'human': 1, 'world': 0, 'disk': 0, 'its': 1, 'fifth': 0, 'features': 0, 'tamed': 0, 'upgrade': 0, 'lb': 0, 'drive': 0, 'to': 13, 'won': 0, 'deliberately': 0, 'marks': 0, 'has': 3, 'predecessor': 0, 'non': 0, 'which': 0, 'read': 0, 'october': 0, 'every': 0, 'os': 7, 'they': 0, 'not': 0, 'during': 0, 'now': 0, 'possess': 0, 'term': 0, 'intel': 0, 'keyboards': 0, 'bytes': 1, 'unnecessary': 0, 'patch': 0, 'predators': 0, 'small': 1, 'output': 2, 'entirely': 0, 'where': 1, 'ears': 0, 'available': 0, 'on': 4, 'often': 0, 'sequence': 1, 'some': 0, 'lion': 3, 'frequency': 0, 'are': 1, 'year': 0, 'download': 0, 'contains': 1, 'concern': 0, 'error': 0, 'for': 3, 'pipes': 0, 'since': 0, 'factory': 0, 'artificial': 0, 'content': 1, 'version': 0, 'run': 0, 'between': 0, 'new': 1, 'learned': 0, 'three': 0, 'piped': 0, 'common': 0, 'concatenate': 1, 'be': 2, 'weighing': 0, 'genes': 0, 'use': 1, 'standard': 0, 'release': 0, 'diploid': 0, 'members': 0, 'x': 8, 'based': 0, 'safer': 0, 'by': 2, 'both': 0, 'commands': 1, 'installation': 1, 'installs': 0, 'of': 18, 'needing': 0, 'allows': 0, 'according': 0, 'july': 0, 'later': 0, 'mac': 5, 's': 2, 'streams': 0, 'receives': 0, 'successor': 0, 'catenates': 0, 'changes': 1, 'or': 2, 'felis': 0, 'major': 1, 'faint': 0, 'useful': 0, 'apple': 7, 'app': 0, 'community': 0, 'one': 3, 'running': 0, 'unix': 0, 'right': 0, 'simply': 1, 'linux': 0, 'sounds': 0, 'size': 0, 'undergone': 0, 'delete': 0, 'from': 0, 'enhancements': 0, 'second': 0, 'their': 0, 'create': 0, 'people': 0, 'two': 0, 't': 0, 'redirection': 1, 'however': 0, 'cats': 3, 'too': 1, 'basic': 0, 'permanently': 0, 'type': 0, 'dogs': 0, 'store': 0, 'more': 0, 'files': 0, 'releases': 0, 'that': 1, 'started': 0, 'offered': 0, 'releasing': 1, 'tiger': 2, 'released': 2, 'part': 0, 'hear': 0, 'external': 0, 'editions': 0, 'off': 0, 'mice': 0, 'with': 1, 'than': 1, 'those': 0, 'longer': 0, 'count': 0, 'made': 0, 'animals': 0, 'mavericks': 0, 'versions': 1, 'default': 0, 'was': 1, 'single': 0, 'cat': 9, 'will': 1, 'can': 2, 'were': 1, 'wild': 0, 'similar': 0, 'interactive': 0, 'and': 13, 'mountain': 4, 'computers': 2, 'have': 1, 'stdout': 0, 'process': 1, 'lines': 0, 'is': 6, 'received': 0, 'moved': 0, 'it': 3, 'an': 1, 'high': 0, 'as': 5, 'incremental': 0, 'file': 4, 'in': 10, 'need': 0, 'domesticated': 0, 'any': 0, 'domestication': 0, 'if': 0, 'binary': 0, 'processors': 0, 'no': 0, 'rather': 0, 'legibility': 0, 'separate': 0, 'firmware': 0, 'when': 1, 'mid': 0, 'also': 1, 'other': 1, 'arguments': 0, 'adjacent': 0, 'online': 0, 'instead': 0, 'you': 4, 'ancestor': 0, 'used': 0, 'chromosomes': 0, 'closest': 0, 'information': 0, 'may': 0, 'symbol': 0, 'leopard': 3, 'update': 0, 'most': 0, 'wrong': 0, 'connected': 0, 'yosemite': 0, 'such': 1, 'comparison': 0, 'recent': 0, 'a': 12, 'purchase': 0, 'genus': 0, 'kg': 0, 'organisms': 0, 'using': 2, 'starting': 0, 'clear': 0, 'stdin': 1, 'flow': 0, 'roughly': 0, 'so': 0, 'switch': 0, 'without': 0, 'command': 2, 'place': 0, 'allow': 0, 'time': 0, 'redirected': 1, 'the': 19, 'typically': 0, 'left': 0}\n"
     ]
    }
   ],
   "source": [
    "words = dict()\n",
    "\n",
    "for str in datalist: \n",
    "    for word in filter(None,re.split('[^a-z]',str)):\n",
    "        if word not in words:\n",
    "            words[word] = 0\n",
    "        else:\n",
    "            words[word] +=1\n",
    "print words"
   ]
  },
  {
   "cell_type": "code",
   "execution_count": 304,
   "metadata": {},
   "outputs": [
    {
     "name": "stdout",
     "output_type": "stream",
     "text": [
      "[[ 0.  0.  0. ...,  1.  0.  0.]\n",
      " [ 0.  0.  0. ...,  0.  0.  0.]\n",
      " [ 0.  0.  0. ...,  1.  0.  0.]\n",
      " ..., \n",
      " [ 0.  0.  0. ...,  2.  0.  0.]\n",
      " [ 0.  0.  0. ...,  1.  0.  0.]\n",
      " [ 0.  0.  0. ...,  1.  0.  0.]]\n"
     ]
    }
   ],
   "source": [
    "n = len(datalist)\n",
    "d = len(words)\n",
    "matrix = np.zeros((n,d))\n",
    "\n",
    "\n",
    "for i in xrange(0,n,1):\n",
    "    words_list = filter(None,re.split('[^a-z]',datalist[i]))\n",
    "    for j in xrange(0,d,1):\n",
    "        find_word = words.keys()[j]\n",
    "        for word in words_list:           \n",
    "            if (word == find_word):\n",
    "                matrix[i][j] +=1\n",
    "        \n",
    "print matrix               "
   ]
  },
  {
   "cell_type": "code",
   "execution_count": 305,
   "metadata": {},
   "outputs": [
    {
     "name": "stdout",
     "output_type": "stream",
     "text": [
      "193\n",
      "file\n",
      "[ 0.  0.  2.  0.  0.  0.  0.  0.  2.  0.  0.  1.  0.  0.  0.  0.  0.  0.\n",
      "  0.  0.  0.  0.]\n"
     ]
    }
   ],
   "source": [
    "print words.keys().index('file')\n",
    "print words.keys()[193]\n",
    "print matrix[:,193]"
   ]
  },
  {
   "cell_type": "code",
   "execution_count": 311,
   "metadata": {},
   "outputs": [
    {
     "name": "stdout",
     "output_type": "stream",
     "text": [
      "0 0.0\n",
      "1 0.952754440874\n",
      "2 0.864473814564\n",
      "3 0.895171516328\n",
      "4 0.77708871497\n",
      "5 0.940238569533\n",
      "6 0.732738758088\n",
      "7 0.925875068334\n",
      "8 0.884272487528\n",
      "9 0.90695157896\n",
      "10 0.832816536227\n",
      "11 0.880477139067\n",
      "12 0.839643254853\n",
      "13 0.87035925529\n",
      "14 0.87401184233\n",
      "15 0.944272178742\n",
      "16 0.840636185422\n",
      "17 0.956644501524\n",
      "18 0.944272178742\n",
      "19 0.888544357485\n",
      "20 0.842757274492\n",
      "21 0.825036446944\n",
      "\n",
      "first_min 6 0.732738758088 \n",
      "domestic cats are similar in size to the other members of the genus felis, typically weighing between 4 and 5 kg (8.8 and 11.0 lb).\n",
      "\n",
      "\n",
      "\n",
      "second_min 4 0.77708871497 \n",
      "in one, people deliberately tamed cats in a process of artificial selection, as they were useful predators of vermin.\n",
      "\n",
      "\n",
      "\n"
     ]
    }
   ],
   "source": [
    "values = []\n",
    "rnum = 0\n",
    "for row in matrix: \n",
    "    values.append(cosine(matrix[0],row))\n",
    "    print rnum,cosine(matrix[0],row)\n",
    "    rnum+=1\n",
    "                      \n",
    "sub_values = list(values)\n",
    "del sub_values[0]\n",
    "min1_val = min(sub_values)\n",
    "min1_ind = values.index(min1_val)\n",
    "\n",
    "del_ind = sub_values.index(min1_val)\n",
    "del sub_values[del_ind]\n",
    "min2_val = min (sub_values)\n",
    "min2_ind = values.index(min2_val)\n",
    "\n",
    "print '\\nfirst_min',min1_ind,min1_val,'\\n',datalist[min1_ind],'\\n\\n'\n",
    "print 'second_min',min2_ind,min2_val,'\\n',datalist[min2_ind],'\\n\\n'"
   ]
  },
  {
   "cell_type": "code",
   "execution_count": 321,
   "metadata": {},
   "outputs": [
    {
     "name": "stdout",
     "output_type": "stream",
     "text": [
      "to 1.0 0.0 1.0 \n",
      "\n",
      "not 1.0 0.0 0.0 \n",
      "\n",
      "during 1.0 0.0 0.0 \n",
      "\n",
      "changes 1.0 0.0 0.0 \n",
      "\n",
      "major 1.0 0.0 0.0 \n",
      "\n",
      "undergone 1.0 0.0 0.0 \n",
      "\n",
      "cats 1.0 1.0 1.0 \n",
      "\n",
      "dogs 1.0 0.0 0.0 \n",
      "\n",
      "have 1.0 0.0 0.0 \n",
      "\n",
      "process 1.0 1.0 0.0 \n",
      "\n",
      "in 1.0 2.0 1.0 \n",
      "\n",
      "domestication 1.0 0.0 0.0 \n",
      "\n",
      "comparison 1.0 0.0 0.0 \n",
      "\n",
      "the 1.0 0.0 2.0 \n",
      "\n"
     ]
    }
   ],
   "source": [
    "    for j in xrange(0,d,1):\n",
    "        if matrix[0][j] > 0:\n",
    "            print words.keys()[j],matrix[0][j],matrix[4][j],matrix[6][j],'\\n'"
   ]
  }
 ],
 "metadata": {
  "kernelspec": {
   "display_name": "Python 3",
   "language": "python",
   "name": "python3"
  },
  "language_info": {
   "codemirror_mode": {
    "name": "ipython",
    "version": 3
   },
   "file_extension": ".py",
   "mimetype": "text/x-python",
   "name": "python",
   "nbconvert_exporter": "python",
   "pygments_lexer": "ipython3",
   "version": "3.6.5"
  }
 },
 "nbformat": 4,
 "nbformat_minor": 2
}
