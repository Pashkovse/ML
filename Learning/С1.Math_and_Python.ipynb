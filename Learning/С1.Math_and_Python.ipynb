{
 "cells": [
  {
   "cell_type": "markdown",
   "metadata": {},
   "source": [
    "# Математика и Python"
   ]
  },
  {
   "cell_type": "code",
   "execution_count": 19,
   "metadata": {},
   "outputs": [],
   "source": [
    "import re\n",
    "import math\n",
    "import numpy as np\n",
    "from numpy.linalg import norm\n",
    "from scipy.spatial.distance import cosine\n",
    "from matplotlib import pylab as plt\n",
    "from scipy.linalg import solve\n",
    "from scipy import optimize\n",
    "import scipy.stats as sts"
   ]
  },
  {
   "cell_type": "markdown",
   "metadata": {},
   "source": [
    "###  Поиск схожих предложений"
   ]
  },
  {
   "cell_type": "code",
   "execution_count": 9,
   "metadata": {},
   "outputs": [],
   "source": [
    "#Формирование словаря\n",
    "def linesToWordsDict(lines,delimiter):\n",
    "    words = dict()    \n",
    "    for line in lines:\n",
    "        for word in filter(None,re.split(delimiter,line)):\n",
    "            if word not in words:\n",
    "                words[word] = 0 # or 1\n",
    "            else:\n",
    "                words[word] += 1 \n",
    "    return words"
   ]
  },
  {
   "cell_type": "code",
   "execution_count": 10,
   "metadata": {},
   "outputs": [],
   "source": [
    "#Формирование матрицы вхождений\n",
    "def linesToMatrix(lines,words,delimiter):\n",
    "    linesCount = len(lines)\n",
    "    wordsCount = len(words)\n",
    "    matrix = np.zeros((linesCount,wordsCount))\n",
    "    for i in range(0,linesCount,1):\n",
    "        lineWords = list(filter(None,re.split(delimiter,lines[i])))\n",
    "        for j in range(0,wordsCount,1):\n",
    "            dictWord = list(words.keys())[j]\n",
    "            for lineWord in lineWords:\n",
    "                if (dictWord == lineWord):\n",
    "                    matrix[i][j] +=1 \n",
    "    return matrix "
   ]
  },
  {
   "cell_type": "code",
   "execution_count": 11,
   "metadata": {},
   "outputs": [],
   "source": [
    "#Поиск схожих предложения\n",
    "def matchSentence (sentenceNum, matrix, n):\n",
    "    cos_values = []\n",
    "    out = []    \n",
    "    for row in range(0,len(matrix),1):\n",
    "        cos_values.append(cosine(matrix[sentenceNum],matrix[row]))\n",
    "    for i in range(0,n,1):        \n",
    "        val = min(cos_values)\n",
    "        #ind = cos_values.ind(val)\n",
    "        cos_values.remove(val)\n",
    "        out.append(val)\n",
    "    return out  "
   ]
  },
  {
   "cell_type": "code",
   "execution_count": 12,
   "metadata": {},
   "outputs": [
    {
     "name": "stdout",
     "output_type": "stream",
     "text": [
      "[0.0, 0.7327387580875756, 0.77708871496985887]\n"
     ]
    }
   ],
   "source": [
    "file = open('data/sentences.txt','r')\n",
    "lines = file.readlines()\n",
    "lines = list(map(lambda x : x.lower(),lines))\n",
    "words = linesToWordsDict(lines,'[^a-z]')\n",
    "matrix = linesToMatrix(lines,words,'[^a-z]')\n",
    "result = matchSentence(0,matrix,3)\n",
    "\n",
    "print (result)"
   ]
  },
  {
   "cell_type": "markdown",
   "metadata": {},
   "source": [
    "### Решение СЛАУ"
   ]
  },
  {
   "cell_type": "code",
   "execution_count": 13,
   "metadata": {},
   "outputs": [
    {
     "name": "stdout",
     "output_type": "stream",
     "text": [
      "Матрица показателей A:\n",
      " [[ 1  1  6]\n",
      " [ 2  5 11]\n",
      " [ 3  7 14]]\n",
      "Вектор результатов b:\n",
      " [9 8 7]\n",
      "Вектор коэффициентов w = Решение системы:\n",
      " [-3.5 -2.5  2.5]\n",
      "Псевдо решение системы:\n",
      " [-3.5 -2.5  2.5]\n"
     ]
    }
   ],
   "source": [
    "a = np.array([[1, 1, 6], [2, 5, 11],[3,7,14]])\n",
    "b = np.array([9, 8, 7])\n",
    "x = np.linalg.solve(a, b)\n",
    "px, pres, pr, ps = np.linalg.lstsq(a, b)\n",
    "\n",
    "print (\"Матрица показателей A:\\n\", a)\n",
    "print (\"Вектор результатов b:\\n\", b)\n",
    "print (\"Вектор коэффициентов w = Решение системы:\\n\", x)\n",
    "print (\"Псевдо решение системы:\\n\", px)\n",
    "\n",
    "#Проверка\n",
    "#print (np.dot(a,x))"
   ]
  },
  {
   "cell_type": "markdown",
   "metadata": {},
   "source": [
    "### Оптимизация функции"
   ]
  },
  {
   "cell_type": "code",
   "execution_count": 17,
   "metadata": {},
   "outputs": [
    {
     "name": "stdout",
     "output_type": "stream",
     "text": [
      "0.0\n",
      "Перебор  [ 0.99999324  1.00001283]\n",
      "\n",
      "Эволюция       fun: 7.3955709864469857e-32\n",
      " message: 'Optimization terminated successfully.'\n",
      "    nfev: 3243\n",
      "     nit: 107\n",
      " success: True\n",
      "       x: array([ 1.,  1.])\n",
      "\n",
      "BFGS         fun: 1.78380307372662e-11\n",
      " hess_inv: array([[ 0.95489061,  1.90006631],\n",
      "       [ 1.90006631,  4.27872379]])\n",
      "      jac: array([  9.88094725e-07,   2.41748897e-06])\n",
      "  message: 'Optimization terminated successfully.'\n",
      "     nfev: 36\n",
      "      nit: 8\n",
      "     njev: 9\n",
      "   status: 0\n",
      "  success: True\n",
      "        x: array([ 1.00000573,  1.00001265])\n",
      "\n",
      "Нелдер-Мид    final_simplex: (array([[ 0.99998568,  0.99996682],\n",
      "       [ 1.00002149,  1.00004744],\n",
      "       [ 1.0000088 ,  1.00003552]]), array([  1.23119954e-10,   2.50768082e-10,   3.59639951e-10]))\n",
      "           fun: 1.2311995365407462e-10\n",
      "       message: 'Optimization terminated successfully.'\n",
      "          nfev: 91\n",
      "           nit: 46\n",
      "        status: 0\n",
      "       success: True\n",
      "             x: array([ 0.99998568,  0.99996682])\n"
     ]
    }
   ],
   "source": [
    "def f(x):   # The rosenbrock function\n",
    "    return .5*(1 - x[0])**2 + (x[1] - x[0]**2)**2\n",
    "    \n",
    "print (f([1, 1]))\n",
    "\n",
    "print ('Перебор ',optimize.brute(f, ((-5, 5), (-5, 5))))\n",
    "print ('\\nЭволюция ',optimize.differential_evolution(f, ((-5, 5), (-5, 5))))\n",
    "print ('\\nBFGS  ',optimize.minimize(f, [2, 2], method='BFGS'))\n",
    "print ('\\nНелдер-Мид  ',optimize.minimize(f, [2, 2], method='Nelder-Mead'))"
   ]
  },
  {
   "cell_type": "markdown",
   "metadata": {},
   "source": [
    "### Распределение выборочных средний (Рэлей)"
   ]
  },
  {
   "cell_type": "code",
   "execution_count": 21,
   "metadata": {},
   "outputs": [],
   "source": [
    "sigma = 1\n",
    "mu = math.sqrt(math.pi/2)*sigma\n",
    "d = (2 - math.pi/2)*sigma**2"
   ]
  },
  {
   "cell_type": "code",
   "execution_count": 22,
   "metadata": {},
   "outputs": [
    {
     "name": "stderr",
     "output_type": "stream",
     "text": [
      "/Users/serg_pashkov/anaconda/envs/Python3/lib/python3.6/site-packages/matplotlib/axes/_axes.py:6462: UserWarning: The 'normed' kwarg is deprecated, and has been replaced by the 'density' kwarg.\n",
      "  warnings.warn(\"The 'normed' kwarg is deprecated, and has been \"\n"
     ]
    },
    {
     "data": {
      "image/png": "[encoded data removed]",
      "text/plain": [
       "<Figure size 432x288 with 1 Axes>"
      ]
     },
     "metadata": {},
     "output_type": "display_data"
    }
   ],
   "source": [
    "#Гистограма и распределение теоретической плотности\n",
    "x = np.linspace(sts.rayleigh.ppf(0.001),sts.rayleigh.ppf(0.999), 1000)\n",
    "y = sts.rayleigh.pdf(x,scale=sigma)\n",
    "rand_y = sts.rayleigh.rvs(size=1000,scale=sigma)\n",
    "\n",
    "plt.hist(rand_y, normed=True,label='Actual')\n",
    "plt.plot(x,y,label='Theoretical')\n",
    "plt.ylabel('$y(x)$')\n",
    "plt.xlabel('$x$')\n",
    "plt.legend()\n",
    "plt.show()"
   ]
  },
  {
   "cell_type": "code",
   "execution_count": 24,
   "metadata": {},
   "outputs": [
    {
     "name": "stderr",
     "output_type": "stream",
     "text": [
      "/Users/serg_pashkov/anaconda/envs/Python3/lib/python3.6/site-packages/matplotlib/axes/_axes.py:6462: UserWarning: The 'normed' kwarg is deprecated, and has been replaced by the 'density' kwarg.\n",
      "  warnings.warn(\"The 'normed' kwarg is deprecated, and has been \"\n"
     ]
    },
    {
     "data": {
      "image/png": "[encoded data removed]",
      "text/plain": [
       "<Figure size 432x288 with 1 Axes>"
      ]
     },
     "metadata": {},
     "output_type": "display_data"
    }
   ],
   "source": [
    "#Распределение выборочных средних\n",
    "def avgs (arr_length, arr_count):\n",
    "    avgs_arr = []\n",
    "    for i in range(arr_count):\n",
    "        temp_arr = np.array(sts.rayleigh.rvs(scale=sigma, size=arr_length))\n",
    "        avgs_arr.append(np.average(temp_arr))\n",
    "    return avgs_arr\n",
    "\n",
    "y_avg_5 = avgs(5,1000)\n",
    "mu_5 = np.average(y_avg_5)\n",
    "d_5 = d/5\n",
    "\n",
    "norm_rv5 = sts.norm(mu_5,math.sqrt(d_5))\n",
    "plt.plot(x,norm_rv5.pdf(x),label='Theoretical')\n",
    "plt.hist(y_avg_5, normed=True,label='Actual')\n",
    "plt.ylabel('$y(x)$')\n",
    "plt.xlabel('$x$')\n",
    "plt.legend()\n",
    "plt.show()"
   ]
  }
 ],
 "metadata": {
  "kernelspec": {
   "display_name": "Python 3",
   "language": "python",
   "name": "python3"
  },
  "language_info": {
   "codemirror_mode": {
    "name": "ipython",
    "version": 3
   },
   "file_extension": ".py",
   "mimetype": "text/x-python",
   "name": "python",
   "nbconvert_exporter": "python",
   "pygments_lexer": "ipython3",
   "version": "3.6.5"
  }
 },
 "nbformat": 4,
 "nbformat_minor": 2
}
