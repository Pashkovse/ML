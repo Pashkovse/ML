{
 "cells": [
  {
   "cell_type": "markdown",
   "metadata": {},
   "source": [
    "# Конспект + Пример применения ЦПТ"
   ]
  },
  {
   "cell_type": "markdown",
   "metadata": {},
   "source": [
    "Импорт"
   ]
  },
  {
   "cell_type": "code",
   "execution_count": null,
   "metadata": {
    "collapsed": true
   },
   "outputs": [],
   "source": [
    "import scipy.stats as sts\n",
    "import matplotlib.pyplot as plt\n",
    "import numpy as np\n",
    "import math"
   ]
  },
  {
   "cell_type": "markdown",
   "metadata": {},
   "source": [
    "#### Вероятность\n",
    "\n",
    "Произведение (независимые, оба произошли): $p(ab) =  p(a) * p(b)$\n",
    "\n",
    "Сумма ( несовместные, хоть 1 произошло): $p(a+b) =  p(a) + p(b)$\n",
    "\n",
    "Сумма (совместные, хоть 1 произошло: $p(a+b) =  p(a) + p(b) - p(ab)$\n",
    "\n",
    "Условная вероятность: $p(a|b) = p(ab)/p(b)$\n",
    "\n",
    "Полная вероятность: $p(a) =  p(a|b)*p(b) + p(a|!b)*p(b!)$"
   ]
  },
  {
   "cell_type": "markdown",
   "metadata": {},
   "source": [
    "#### Метрики\n",
    "Мат. ожидание - Cреднее арифметическое, EX\n",
    "\n",
    "Медиана - центральный элемент вариационного ряда\n",
    "\n",
    "Квантиль 0.5 , квантиль =  p (X < Xa) >= a, p (X > Xa) >= 1-a\n",
    "\n",
    "Мода - самое вероятное значение (максимум)\n",
    "\n",
    "Дисперсия - Разброс = E ((X - EX)^2), Среднеквадратичное отклонение, SIG = sqrt(DX)"
   ]
  },
  {
   "cell_type": "markdown",
   "metadata": {},
   "source": [
    "#### Величины\n",
    "\n",
    "Бернуллиевская величина : \n",
    "$p(x=1) =  p, p(x=0)=1-p$\n",
    "2 исхода, Монетка\n",
    "\n",
    "Биноминальная величина :\n",
    "$p(x=k) =  C * p^k (1-p)^(n-k),    C = n!/(k! * (n-k)!)$\n",
    "n попыток, k попаданий, Баскетбольные броски\n",
    "\n",
    "Пуассоновская величина : \n",
    "$p(x=k) = lambda^k * e ^ -lambda / k!$\n",
    "Счётчик, k вхождений, количество слов в тексте"
   ]
  },
  {
   "cell_type": "markdown",
   "metadata": {},
   "source": [
    "#### Формула Байеса: \n",
    "\n",
    "$P(B|E) = P(B) * P(E|B)  /  P(E)$\n",
    "B - Убеждение\n",
    "Е - Свидетельства\n",
    "\n",
    "Правильность убеждений с учетом новых свидетельсв = \n",
    "Правильность убеждений * Правильность свидетельств в случае правильности убеждений / Правильность свидетельств\n",
    "\n",
    "Пример:\n",
    "Вероятность болезни при положительном тесте = вероятность болезни * вероятность положительного теста при болезни / вероятность положительного теста. "
   ]
  },
  {
   "cell_type": "markdown",
   "metadata": {},
   "source": [
    "#### Доверительный интервал\n",
    "$ P(Cl <= Tet <= Cu) >= 1 - alpha$\n",
    "Tet = оцениваемый параметр\n",
    "1 - alpha = уровень доверия\n",
    "C - границы, задаются через нормальное распределение = Pn = N (EX, DX/n)\n",
    "Pn - выборочное среднее, прим. мат. ожидание\n",
    "Пример: P (EX - 2*SIG <= p <= EX + 2*SIG) = 0.95"
   ]
  },
  {
   "cell_type": "markdown",
   "metadata": {},
   "source": [
    "#### Центральная предельная теорема\n",
    "$Xn = N (EX, DX/n)$\n",
    "Распределение выборочных средних можно описать нормальным распределением."
   ]
  },
  {
   "cell_type": "markdown",
   "metadata": {},
   "source": [
    "#### Пример применения ЦПТ"
   ]
  },
  {
   "cell_type": "markdown",
   "metadata": {},
   "source": [
    "Ссылка на Вики: https://ru.wikipedia.org/wiki/Распределение_Рэлея \n",
    "        \n",
    "Математическое ожидание: $$\\mu = \\sqrt{\\pi/2}*\\sigma$$\n",
    "Дисперсия: $$D = (2-\\pi/2)*\\sigma^2$$"
   ]
  },
  {
   "cell_type": "code",
   "execution_count": 110,
   "metadata": {},
   "outputs": [
    {
     "name": "stdout",
     "output_type": "stream",
     "text": [
      "Мат. ожидание =  1.25331413732\n",
      "Дисперсия =  0.429203673205\n"
     ]
    }
   ],
   "source": [
    "sigma = 1\n",
    "mu = math.sqrt(math.pi/2)*sigma\n",
    "d = (2 - math.pi/2)*sigma**2\n",
    "\n",
    "print 'Мат. ожидание = ',mu\n",
    "print 'Дисперсия = ',d"
   ]
  },
  {
   "cell_type": "markdown",
   "metadata": {},
   "source": [
    "Построение гистограммы выборки и распределения теоретической плотности"
   ]
  },
  {
   "cell_type": "code",
   "execution_count": 118,
   "metadata": {},
   "outputs": [
    {
     "data": {
      "image/png": "[encoded data removed]",
      "text/plain": [
       "<matplotlib.figure.Figure at 0x10fcf4690>"
      ]
     },
     "metadata": {},
     "output_type": "display_data"
    }
   ],
   "source": [
    "x = np.linspace(sts.rayleigh.ppf(0.001),sts.rayleigh.ppf(0.999), 1000)\n",
    "y = sts.rayleigh.pdf(x,scale=sigma) #плотности вероятности\n",
    "rand_y = sts.rayleigh.rvs(size=1000,scale=sigma)\n",
    "\n",
    "plt.hist(rand_y, normed=True,label='Actual')\n",
    "plt.plot(x,y,label='Theoretical')\n",
    "plt.ylabel('$y(x)$')\n",
    "plt.xlabel('$x$')\n",
    "plt.legend()\n",
    "plt.show()"
   ]
  },
  {
   "cell_type": "markdown",
   "metadata": {},
   "source": [
    "Генерация массива средневыборочных"
   ]
  },
  {
   "cell_type": "code",
   "execution_count": 104,
   "metadata": {
    "collapsed": true
   },
   "outputs": [],
   "source": [
    "def avgs (arr_length, arr_count):\n",
    "    avgs_arr = []\n",
    "    for i in xrange(arr_count):\n",
    "        temp_arr = np.array(sts.rayleigh.rvs(scale=sigma, size=arr_length))\n",
    "        avgs_arr.append(np.average(temp_arr))\n",
    "    return avgs_arr"
   ]
  },
  {
   "cell_type": "markdown",
   "metadata": {},
   "source": [
    "Расчет Мат. ожидания и дисперсии средневыборочных"
   ]
  },
  {
   "cell_type": "code",
   "execution_count": 105,
   "metadata": {
    "collapsed": true
   },
   "outputs": [],
   "source": [
    "#Для N=5\n",
    "y_avg_5 = avgs(5,1000)\n",
    "mu_5 = np.average(y_avg_5)\n",
    "d_5 = d/5\n",
    "\n",
    "#Для N=10\n",
    "y_avg_10 = avgs(10,1000)\n",
    "mu_10 = np.average(y_avg_10)\n",
    "d_10 = d/10\n",
    "\n",
    "#Для N=50\n",
    "y_avg_50 = avgs(50,1000)\n",
    "mu_50 = np.average(y_avg_50)\n",
    "d_50 = d/50"
   ]
  },
  {
   "cell_type": "markdown",
   "metadata": {},
   "source": [
    "Распределение выборочных средних при N=5"
   ]
  },
  {
   "cell_type": "code",
   "execution_count": 120,
   "metadata": {},
   "outputs": [
    {
     "data": {
      "image/png": "[encoded data removed]",
      "text/plain": [
       "<matplotlib.figure.Figure at 0x10ed55990>"
      ]
     },
     "metadata": {},
     "output_type": "display_data"
    }
   ],
   "source": [
    "norm_rv5 = sts.norm(mu_5,math.sqrt(d_5))\n",
    "\n",
    "plt.plot(x,norm_rv5.pdf(x),label='Theoretical')\n",
    "plt.hist(y_avg_5, normed=True,label='Actual')\n",
    "plt.ylabel('$y(x)$')\n",
    "plt.xlabel('$x$')\n",
    "plt.legend()\n",
    "plt.show()b"
   ]
  },
  {
   "cell_type": "markdown",
   "metadata": {},
   "source": [
    "Распределение выборочных средних при N=10"
   ]
  },
  {
   "cell_type": "code",
   "execution_count": 122,
   "metadata": {},
   "outputs": [
    {
     "data": {
      "image/png": "[encoded data removed]",
      "text/plain": [
       "<matplotlib.figure.Figure at 0x10ecf5110>"
      ]
     },
     "metadata": {},
     "output_type": "display_data"
    }
   ],
   "source": [
    "norm_rv10 = sts.norm(mu_10,math.sqrt(d_10))\n",
    "\n",
    "plt.plot(x,norm_rv10.pdf(x),label='Theoretical')\n",
    "plt.hist(y_avg_10, normed=True,label='Actual')\n",
    "plt.ylabel('$y(x)$')\n",
    "plt.xlabel('$x$')\n",
    "plt.legend()\n",
    "plt.show()"
   ]
  },
  {
   "cell_type": "markdown",
   "metadata": {},
   "source": [
    "Распределение выборочных средних при N=50"
   ]
  },
  {
   "cell_type": "code",
   "execution_count": 123,
   "metadata": {
    "scrolled": true
   },
   "outputs": [
    {
     "data": {
      "image/png": "[encoded data removed]",
      "text/plain": [
       "<matplotlib.figure.Figure at 0x10efea6d0>"
      ]
     },
     "metadata": {},
     "output_type": "display_data"
    }
   ],
   "source": [
    "norm_rv50 = sts.norm(mu_50,math.sqrt(d_50))\n",
    "\n",
    "plt.plot(x,norm_rv50.pdf(x),label='Theoretical')\n",
    "plt.hist(y_avg_50, normed=True,label='Actual')\n",
    "plt.ylabel('$y(x)$')\n",
    "plt.xlabel('$x$')\n",
    "plt.legend()\n",
    "plt.show()"
   ]
  },
  {
   "cell_type": "markdown",
   "metadata": {},
   "source": [
    "С ростом N гистограмма распределения выборочнных средних становится более узкой, а точность аппроксимации увеличивается."
   ]
  }
 ],
 "metadata": {
  "kernelspec": {
   "display_name": "Python 2",
   "language": "python",
   "name": "python2"
  },
  "language_info": {
   "codemirror_mode": {
    "name": "ipython",
    "version": 2
   },
   "file_extension": ".py",
   "mimetype": "text/x-python",
   "name": "python",
   "nbconvert_exporter": "python",
   "pygments_lexer": "ipython2",
   "version": "2.7.14"
  }
 },
 "nbformat": 4,
 "nbformat_minor": 2
}
