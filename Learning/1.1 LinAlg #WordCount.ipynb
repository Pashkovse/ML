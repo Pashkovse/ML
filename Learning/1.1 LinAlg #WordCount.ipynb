{
 "cells": [
  {
   "cell_type": "markdown",
   "metadata": {},
   "source": [
    "# Вектора"
   ]
  },
  {
   "cell_type": "markdown",
   "metadata": {},
   "source": [
    "#### Импорт"
   ]
  },
  {
   "cell_type": "code",
   "execution_count": null,
   "metadata": {
    "collapsed": true
   },
   "outputs": [],
   "source": [
    "import re\n",
    "import numpy as np\n",
    "from numpy.linalg import norm\n",
    "from scipy.spatial.distance import cosine"
   ]
  },
  {
   "cell_type": "markdown",
   "metadata": {},
   "source": [
    "#### Переменные"
   ]
  },
  {
   "cell_type": "code",
   "execution_count": null,
   "metadata": {
    "collapsed": true
   },
   "outputs": [],
   "source": [
    "sampleArray = np.array([1,2,3,4,5],dtype=int)\n",
    "sampleArray2 = np.array([1,1,2,2,3],dtype=int)\n",
    "sampleInterval = np.arange(start=0,stop=10,step=1)"
   ]
  },
  {
   "cell_type": "markdown",
   "metadata": {},
   "source": [
    "Норма L1 =     $\\left\\Vert x \\right\\Vert_{1} = \\sum_{i=1}^n \\left| x_{i} \\right|.$\n",
    "\n",
    "Норма L2 =     $\\left\\Vert x \\right\\Vert_{2} = \\sqrt{\\sum_{i=1}^n \\left( x_{i} \\right)^2}.$"
   ]
  },
  {
   "cell_type": "code",
   "execution_count": null,
   "metadata": {
    "collapsed": true
   },
   "outputs": [],
   "source": [
    "norm(sampleArray,ord=1)"
   ]
  },
  {
   "cell_type": "markdown",
   "metadata": {},
   "source": [
    "Расстояние L1 =     $\\rho_{1}\\left( x, y \\right) = \\left\\Vert x - y \\right\\Vert_{1} = \\sum_{i=1}^n \\left| x_{i} - y_{i} \\right|$\n",
    "\n",
    "Расстояние L2 =   $ \\rho_{2}\\left( x, y \\right) = \\left\\Vert x - y \\right\\Vert_{2} = \n",
    " \\sqrt{\\sum_{i=1}^n \\left( x_{i} - y_{i} \\right)^2}.$\n",
    " "
   ]
  },
  {
   "cell_type": "code",
   "execution_count": null,
   "metadata": {
    "collapsed": true
   },
   "outputs": [],
   "source": [
    "norm(sampleArray-sampleArray2,ord=2)"
   ]
  },
  {
   "cell_type": "markdown",
   "metadata": {},
   "source": [
    "Скалярное произведение =   $ \\langle x, y \\rangle = \\sum_{i=1}^n x_{i} y_{i}.$\n"
   ]
  },
  {
   "cell_type": "code",
   "execution_count": null,
   "metadata": {
    "collapsed": true
   },
   "outputs": [],
   "source": [
    "np.dot(sampleArray, sampleArray2)"
   ]
  },
  {
   "cell_type": "markdown",
   "metadata": {},
   "source": [
    "Косинусное расстояние $\\langle x, y \\rangle = \\left| x \\right| | y | \\cos(\\alpha)\\implies \\cos(\\alpha) = \\frac{\\langle x, y \\rangle}{\\left| x \\right| | y |},$"
   ]
  },
  {
   "cell_type": "code",
   "execution_count": null,
   "metadata": {
    "collapsed": true
   },
   "outputs": [],
   "source": [
    "cos = np.dot(sampleArray, sampleArray2) / norm(sampleArray) /norm(sampleArray2)"
   ]
  },
  {
   "cell_type": "markdown",
   "metadata": {},
   "source": [
    "### Пример поиска схожих предложений"
   ]
  },
  {
   "cell_type": "code",
   "execution_count": null,
   "metadata": {
    "collapsed": true
   },
   "outputs": [],
   "source": [
    "#Формирование словаря\n",
    "def linesToWordsDict(lines,delimiter):\n",
    "    words = dict()    \n",
    "    for line in lines:\n",
    "        for word in filter(None,re.split(delimiter,line)):\n",
    "            if word not in words:\n",
    "                words[word] = 0 # or 1\n",
    "            else:\n",
    "                words[word] += 1 \n",
    "    return words"
   ]
  },
  {
   "cell_type": "code",
   "execution_count": null,
   "metadata": {
    "collapsed": true
   },
   "outputs": [],
   "source": [
    "#Формирование матрицы вхождений\n",
    "def linesToMatrix(lines,words,delimiter):\n",
    "    linesCount = len(lines)\n",
    "    wordsCount = len(words)\n",
    "    matrix = np.zeros((linesCount,wordsCount))\n",
    "    for i in range(0,linesCount,1):\n",
    "        lineWords = list(filter(None,re.split(delimiter,lines[i])))\n",
    "        for j in range(0,wordsCount,1):\n",
    "            dictWord = list(words.keys())[j]\n",
    "            for lineWord in lineWords:\n",
    "                if (dictWord == lineWord):\n",
    "                    matrix[i][j] +=1 \n",
    "    return matrix "
   ]
  },
  {
   "cell_type": "code",
   "execution_count": null,
   "metadata": {
    "collapsed": true
   },
   "outputs": [],
   "source": [
    "#Поиск схожих предложения\n",
    "def matchSentence (sentenceNum, matrix, n):\n",
    "    cos_values = []\n",
    "    out = []    \n",
    "    for row in range(0,len(matrix),1):\n",
    "        cos_values.append(cosine(matrix[sentenceNum],matrix[row]))\n",
    "    for i in range(0,n,1):        \n",
    "        val = min(cos_values)\n",
    "        #ind = cos_values.ind(val)\n",
    "        cos_values.remove(val)\n",
    "        out.append(val)\n",
    "    return out  "
   ]
  },
  {
   "cell_type": "code",
   "execution_count": null,
   "metadata": {
    "collapsed": true
   },
   "outputs": [],
   "source": [
    "file = open('sentences.txt','r')\n",
    "lines = file.readlines()\n",
    "lines = list(map(lambda x : x.lower(),lines))\n",
    "words = linesToWordsDict(lines,'[^a-z]')\n",
    "matrix = linesToMatrix(lines,words,'[^a-z]')\n",
    "result = matchSentence(0,matrix,3)\n",
    "\n",
    "print (result)"
   ]
  }
 ],
 "metadata": {
  "kernelspec": {
   "display_name": "Python 2",
   "language": "python",
   "name": "python2"
  },
  "language_info": {
   "codemirror_mode": {
    "name": "ipython",
    "version": 2
   },
   "file_extension": ".py",
   "mimetype": "text/x-python",
   "name": "python",
   "nbconvert_exporter": "python",
   "pygments_lexer": "ipython2",
   "version": "2.7.14"
  }
 },
 "nbformat": 4,
 "nbformat_minor": 2
}
