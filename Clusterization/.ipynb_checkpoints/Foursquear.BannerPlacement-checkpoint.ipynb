{
 "cells": [
  {
   "cell_type": "markdown",
   "metadata": {},
   "source": [
    "# Размещение баннеров"
   ]
  },
  {
   "cell_type": "code",
   "execution_count": null,
   "metadata": {},
   "outputs": [],
   "source": [
    "import numpy as np\n",
    "import pandas as pd\n",
    "from sklearn.cluster import MeanShift\n",
    "import matplotlib.pyplot as plt\n",
    "%matplotlib inline"
   ]
  },
  {
   "cell_type": "code",
   "execution_count": null,
   "metadata": {},
   "outputs": [],
   "source": [
    "#Подготовка данных\n",
    "with open('../data/checkins.dat','r') as file:\n",
    "    next(file)\n",
    "    next(file)\n",
    "    df = pd.DataFrame(line.rstrip().split('|') for line in file)\n",
    "\n",
    "df.columns = ['id','user_id','venue_id','latitude','longitude','created_at']\n",
    "df.drop(df.tail(2).index, inplace=True)\n",
    "\n",
    "df['latitude'] = df.latitude.apply(lambda x : x.lstrip().rstrip())\n",
    "df['longitude'] = df.longitude.apply(lambda x : x.lstrip().rstrip())\n",
    "df['created_at'] = df.created_at.apply(lambda x : x.lstrip().rstrip())\n",
    "df = df[df.latitude != '']\n",
    "df['latitude'] = df.latitude.astype(float)\n",
    "df['longitude'] = df.longitude.astype(float)\n",
    "df = df[['latitude','longitude']]\n",
    "\n",
    "df.head()"
   ]
  },
  {
   "cell_type": "code",
   "execution_count": null,
   "metadata": {},
   "outputs": [],
   "source": [
    "#Определим количество кластеров\n",
    "ms = MeanShift(bandwidth=0.1)\n",
    "ms.fit(df)\n",
    "print(\"Number of clusters = \",len(np.unique(ms.labels_)))"
   ]
  },
  {
   "cell_type": "code",
   "execution_count": null,
   "metadata": {},
   "outputs": [],
   "source": [
    "#Визуализируем центры кластеров\n",
    "cluster_centers = ms.cluster_centers_\n",
    "plt.scatter(df['longitude'],df['latitude'], alpha=0.4)\n",
    "plt.scatter(cluster_centers[:,1],cluster_centers[:,0],alpha=0.1)\n",
    "plt.show()"
   ]
  },
  {
   "cell_type": "code",
   "execution_count": null,
   "metadata": {},
   "outputs": [],
   "source": [
    "#Отфильтруем менее посещаемые места\n",
    "label_df = pd.DataFrame(ms.labels_, columns=['X'])\n",
    "clusters = np.unique(label_df.groupby(['X']).filter(lambda x: len(x) > 15))\n",
    "clusters"
   ]
  }
 ],
 "metadata": {
  "kernelspec": {
   "display_name": "Python 3",
   "language": "python",
   "name": "python3"
  },
  "language_info": {
   "codemirror_mode": {
    "name": "ipython",
    "version": 3
   },
   "file_extension": ".py",
   "mimetype": "text/x-python",
   "name": "python",
   "nbconvert_exporter": "python",
   "pygments_lexer": "ipython3",
   "version": "3.7.0"
  }
 },
 "nbformat": 4,
 "nbformat_minor": 2
}
