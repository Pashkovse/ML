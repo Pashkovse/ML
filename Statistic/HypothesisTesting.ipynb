{
 "cells": [
  {
   "cell_type": "markdown",
   "metadata": {},
   "source": [
    "# Проверка гипотез"
   ]
  },
  {
   "cell_type": "markdown",
   "metadata": {},
   "source": [
    "#### Импорты"
   ]
  },
  {
   "cell_type": "code",
   "execution_count": 1,
   "metadata": {
    "collapsed": true
   },
   "outputs": [],
   "source": [
    "import numpy as np\n",
    "from scipy import stats"
   ]
  },
  {
   "cell_type": "markdown",
   "metadata": {
    "collapsed": true
   },
   "source": [
    "#### Конспект"
   ]
  },
  {
   "cell_type": "markdown",
   "metadata": {},
   "source": [
    "Есть случайная величина X с распределением P и какая то статистика t с распределением T. Если нулевая гипотеза H0 верна, то известно распределение T, и P принадлежит семейству w.\n",
    "\n",
    "Достигаемый уровень значимости (p-value) - вероятность получить T >= t, где t - подсчитанное на выборке значение статистики, при условии справедливости H0. Площадь хвоста(ов) распределения.\n",
    "\n",
    "Уровень значимости (а) - порог с которым сравнвается достигаемый уровень значимости. Обычно 0.05. Если p<=a, то H0 отвергается.\n",
    "\n",
    "Ошибка 1 рода - отвергнуть верную H0\n",
    "\n",
    "Ошибка 2 рода - принять неверную H0.\n",
    "\n",
    "Мощность - вероятность отвергнуть неверную H0\n",
    "\n",
    "Критерий согласия Пирсона (хи квадрат) - подчиняется ли X теоретическому распределению P. Например: имеем выборку с предполагаемым распределением Пуассона (счетчик), считаем лямбду как выборочное среднее, строим теоретическое распределение Пуассоно с данной лямбдой и в конце считаем критерий согласия между данными распределениями. \n",
    "$$\\chi^2=\\sum_{i=1}^K \\frac{\\left(n_i- np_i\\right)^2}{np_i}$$"
   ]
  },
  {
   "cell_type": "markdown",
   "metadata": {},
   "source": [
    "#### Примеры задач"
   ]
  },
  {
   "cell_type": "markdown",
   "metadata": {},
   "source": [
    "p-value при 12/16 успешных исходов при H0-исход случаен, H1 - исход не случаен и происходит чаще чем random (0.5)"
   ]
  },
  {
   "cell_type": "code",
   "execution_count": 5,
   "metadata": {},
   "outputs": [
    {
     "data": {
      "text/plain": [
       "0.0384063720703125"
      ]
     },
     "execution_count": 5,
     "metadata": {},
     "output_type": "execute_result"
    }
   ],
   "source": [
    "stats.binom_test(12, 16, 0.5, alternative = 'greater')"
   ]
  },
  {
   "cell_type": "markdown",
   "metadata": {},
   "source": [
    "Критерий согласия между теоретической и фактической выборками"
   ]
  },
  {
   "cell_type": "code",
   "execution_count": 9,
   "metadata": {},
   "outputs": [
    {
     "data": {
      "text/plain": [
       "Power_divergenceResult(statistic=1.5, pvalue=0.22067136191984324)"
      ]
     },
     "execution_count": 9,
     "metadata": {},
     "output_type": "execute_result"
    }
   ],
   "source": [
    "stats.chisquare([1,1,2], [1,2,1], ddof = 1)"
   ]
  }
 ],
 "metadata": {
  "kernelspec": {
   "display_name": "Python 2",
   "language": "python",
   "name": "python2"
  },
  "language_info": {
   "codemirror_mode": {
    "name": "ipython",
    "version": 2
   },
   "file_extension": ".py",
   "mimetype": "text/x-python",
   "name": "python",
   "nbconvert_exporter": "python",
   "pygments_lexer": "ipython2",
   "version": "2.7.14"
  }
 },
 "nbformat": 4,
 "nbformat_minor": 2
}
