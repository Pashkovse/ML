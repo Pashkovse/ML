{
 "cells": [
  {
   "cell_type": "markdown",
   "metadata": {},
   "source": [
    "# Оптимизация функции"
   ]
  },
  {
   "cell_type": "markdown",
   "metadata": {},
   "source": [
    "#### Импорт"
   ]
  },
  {
   "cell_type": "code",
   "execution_count": null,
   "metadata": {
    "collapsed": true
   },
   "outputs": [],
   "source": [
    "import numpy as np\n",
    "from matplotlib import pylab as plt\n",
    "from math import sin,exp\n",
    "from scipy import optimize"
   ]
  },
  {
   "cell_type": "markdown",
   "metadata": {},
   "source": [
    "#### Конспект"
   ]
  },
  {
   "cell_type": "markdown",
   "metadata": {},
   "source": [
    "Предел - величина, к которой стремится значение рассматриваемой функции при стремлении её аргумента к данной точке.\n",
    "\n",
    "$lim_{x->a} f(x) = f(lim_{x->a} x) = f(a) = \\frac{x, y}{\\left| x \\right| | y |}$\n",
    "\n",
    "Производная - отношение приращений функции и агрумента, коэффициент наклона касательной, скорость роста.\n",
    "\n",
    "$f'(x) = lim_{∆x->0}\\frac {f(x+∆x)−f(x)}{∆x} = k$\n",
    "\n",
    "\n",
    "Дифференциал - линейная часть приращения функции.\n",
    "\n",
    "$df = f'(x_0)dx$, $dx = ∆x$\n",
    "\n",
    "\n",
    "Частная производная - отношение приращений функции по выбранной переменной и агрумента,касатальная плоскость к рассматриваемой поверхности, тангенс угла наклона между одной координатной и касательной плоскостями.\n",
    "\n",
    "Производная по направлению - показывает насколько быстро изменяется функция, если идти по данному направлению. Производная по направлению координатной оси = частная производная по координате.\n",
    "\n",
    "Градиент - вектор частных производных, направление наискорейшего роста функции."
   ]
  },
  {
   "cell_type": "markdown",
   "metadata": {},
   "source": [
    "Алгоритм градиентного спуска - итерационное движение в сторону антиградиента.\n",
    "\n",
    "Алгоритм Нелдера-Мид - метод деформируемого многогранника.\n",
    "\n",
    "Алгоритм имитации отжига - итерационный процесс, где каждый x переходит в новое состояние из соседних если значение функции в новом состоянии меньше. В ином случае переход происходитс вероятностью P, который зависит от температуры T, которая в свою очередь постепенно уменьшается.\n",
    "\n",
    "Алгоритм дифференциальной эволюции - в качестве начальной поплуляции выбирается N случайных векторов, на каждой следующей итерации генерируется новое поколение векторов из комбинации предыдущих. Мутация(из комбинации нескольких векторов формируется мутант) -> Скрещивание(покоординатный выбор между исходным вектором и мутантом с вероятностью P) -> Отбор(если пробный вектор лучше исходного, то он его заменяет в новом поколении).\n",
    "\n"
   ]
  },
  {
   "cell_type": "markdown",
   "metadata": {},
   "source": [
    "#### Пример оптимизации функции"
   ]
  },
  {
   "cell_type": "markdown",
   "metadata": {},
   "source": [
    "Определение функции"
   ]
  },
  {
   "cell_type": "code",
   "execution_count": null,
   "metadata": {
    "collapsed": true
   },
   "outputs": [],
   "source": [
    "def f(x):   # The rosenbrock function\n",
    "    return .5*(1 - x[0])**2 + (x[1] - x[0]**2)**2\n",
    "    \n",
    "print (f([1, 1]))"
   ]
  },
  {
   "cell_type": "markdown",
   "metadata": {},
   "source": [
    "Оптимизация функции различными методами"
   ]
  },
  {
   "cell_type": "code",
   "execution_count": null,
   "metadata": {
    "collapsed": true
   },
   "outputs": [],
   "source": [
    "print ('Перебор ',optimize.brute(f, ((-5, 5), (-5, 5))))\n",
    "print ('\\nЭволюция ',optimize.differential_evolution(f, ((-5, 5), (-5, 5))))\n",
    "print ('\\nBFGS  ',optimize.minimize(f, [2, 2], method='BFGS'))\n",
    "print ('\\nНелдер-Мид  ',optimize.minimize(f, [2, 2], method='Nelder-Mead'))"
   ]
  }
 ],
 "metadata": {
  "kernelspec": {
   "display_name": "Python 2",
   "language": "python",
   "name": "python2"
  },
  "language_info": {
   "codemirror_mode": {
    "name": "ipython",
    "version": 2
   },
   "file_extension": ".py",
   "mimetype": "text/x-python",
   "name": "python",
   "nbconvert_exporter": "python",
   "pygments_lexer": "ipython2",
   "version": "2.7.14"
  }
 },
 "nbformat": 4,
 "nbformat_minor": 2
}
