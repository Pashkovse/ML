{
 "cells": [
  {
   "cell_type": "markdown",
   "metadata": {},
   "source": [
    "# Прогнозирование количества прокатов"
   ]
  },
  {
   "cell_type": "code",
   "execution_count": 6,
   "metadata": {},
   "outputs": [],
   "source": [
    "import numpy as np\n",
    "import pandas as pd\n",
    "from sklearn.linear_model import Ridge,Lasso,LinearRegression,LogisticRegression,LassoCV\n",
    "from sklearn.utils import shuffle\n",
    "from sklearn.preprocessing import scale\n",
    "from sklearn.grid_search import GridSearchCV\n",
    "from matplotlib import pyplot as plt\n",
    "%matplotlib inline"
   ]
  },
  {
   "cell_type": "code",
   "execution_count": 4,
   "metadata": {},
   "outputs": [
    {
     "data": {
      "text/html": [
       "<div>\n",
       "<style scoped>\n",
       "    .dataframe tbody tr th:only-of-type {\n",
       "        vertical-align: middle;\n",
       "    }\n",
       "\n",
       "    .dataframe tbody tr th {\n",
       "        vertical-align: top;\n",
       "    }\n",
       "\n",
       "    .dataframe thead th {\n",
       "        text-align: right;\n",
       "    }\n",
       "</style>\n",
       "<table border=\"1\" class=\"dataframe\">\n",
       "  <thead>\n",
       "    <tr style=\"text-align: right;\">\n",
       "      <th></th>\n",
       "      <th>season</th>\n",
       "      <th>yr</th>\n",
       "      <th>mnth</th>\n",
       "      <th>holiday</th>\n",
       "      <th>weekday</th>\n",
       "      <th>workingday</th>\n",
       "      <th>weathersit</th>\n",
       "      <th>temp</th>\n",
       "      <th>atemp</th>\n",
       "      <th>hum</th>\n",
       "      <th>windspeed(mph)</th>\n",
       "      <th>windspeed(ms)</th>\n",
       "      <th>cnt</th>\n",
       "    </tr>\n",
       "  </thead>\n",
       "  <tbody>\n",
       "    <tr>\n",
       "      <th>0</th>\n",
       "      <td>1</td>\n",
       "      <td>0</td>\n",
       "      <td>1</td>\n",
       "      <td>0</td>\n",
       "      <td>6</td>\n",
       "      <td>0</td>\n",
       "      <td>2</td>\n",
       "      <td>14.110847</td>\n",
       "      <td>18.18125</td>\n",
       "      <td>80.5833</td>\n",
       "      <td>10.749882</td>\n",
       "      <td>4.805490</td>\n",
       "      <td>985</td>\n",
       "    </tr>\n",
       "    <tr>\n",
       "      <th>1</th>\n",
       "      <td>1</td>\n",
       "      <td>0</td>\n",
       "      <td>1</td>\n",
       "      <td>0</td>\n",
       "      <td>0</td>\n",
       "      <td>0</td>\n",
       "      <td>2</td>\n",
       "      <td>14.902598</td>\n",
       "      <td>17.68695</td>\n",
       "      <td>69.6087</td>\n",
       "      <td>16.652113</td>\n",
       "      <td>7.443949</td>\n",
       "      <td>801</td>\n",
       "    </tr>\n",
       "    <tr>\n",
       "      <th>2</th>\n",
       "      <td>1</td>\n",
       "      <td>0</td>\n",
       "      <td>1</td>\n",
       "      <td>0</td>\n",
       "      <td>1</td>\n",
       "      <td>1</td>\n",
       "      <td>1</td>\n",
       "      <td>8.050924</td>\n",
       "      <td>9.47025</td>\n",
       "      <td>43.7273</td>\n",
       "      <td>16.636703</td>\n",
       "      <td>7.437060</td>\n",
       "      <td>1349</td>\n",
       "    </tr>\n",
       "    <tr>\n",
       "      <th>3</th>\n",
       "      <td>1</td>\n",
       "      <td>0</td>\n",
       "      <td>1</td>\n",
       "      <td>0</td>\n",
       "      <td>2</td>\n",
       "      <td>1</td>\n",
       "      <td>1</td>\n",
       "      <td>8.200000</td>\n",
       "      <td>10.60610</td>\n",
       "      <td>59.0435</td>\n",
       "      <td>10.739832</td>\n",
       "      <td>4.800998</td>\n",
       "      <td>1562</td>\n",
       "    </tr>\n",
       "    <tr>\n",
       "      <th>4</th>\n",
       "      <td>1</td>\n",
       "      <td>0</td>\n",
       "      <td>1</td>\n",
       "      <td>0</td>\n",
       "      <td>3</td>\n",
       "      <td>1</td>\n",
       "      <td>1</td>\n",
       "      <td>9.305237</td>\n",
       "      <td>11.46350</td>\n",
       "      <td>43.6957</td>\n",
       "      <td>12.522300</td>\n",
       "      <td>5.597810</td>\n",
       "      <td>1600</td>\n",
       "    </tr>\n",
       "  </tbody>\n",
       "</table>\n",
       "</div>"
      ],
      "text/plain": [
       "   season  yr  mnth  holiday  weekday  workingday  weathersit       temp  \\\n",
       "0       1   0     1        0        6           0           2  14.110847   \n",
       "1       1   0     1        0        0           0           2  14.902598   \n",
       "2       1   0     1        0        1           1           1   8.050924   \n",
       "3       1   0     1        0        2           1           1   8.200000   \n",
       "4       1   0     1        0        3           1           1   9.305237   \n",
       "\n",
       "      atemp      hum  windspeed(mph)  windspeed(ms)   cnt  \n",
       "0  18.18125  80.5833       10.749882       4.805490   985  \n",
       "1  17.68695  69.6087       16.652113       7.443949   801  \n",
       "2   9.47025  43.7273       16.636703       7.437060  1349  \n",
       "3  10.60610  59.0435       10.739832       4.800998  1562  \n",
       "4  11.46350  43.6957       12.522300       5.597810  1600  "
      ]
     },
     "execution_count": 4,
     "metadata": {},
     "output_type": "execute_result"
    }
   ],
   "source": [
    "#Читаем данные\n",
    "df = pd.read_csv('../data/bikes_rent.csv')\n",
    "df.head()"
   ]
  },
  {
   "cell_type": "code",
   "execution_count": 7,
   "metadata": {},
   "outputs": [],
   "source": [
    "#Подготовка данных\n",
    "df_shuffled = shuffle(df, random_state=123)\n",
    "X = scale(df_shuffled[df_shuffled.columns[:-1]])\n",
    "y = df_shuffled[\"cnt\"]"
   ]
  },
  {
   "cell_type": "code",
   "execution_count": 8,
   "metadata": {},
   "outputs": [
    {
     "data": {
      "text/plain": [
       "[('season', 570.8681698112806),\n",
       " ('yr', 1021.9637175294769),\n",
       " ('mnth', -141.30232005185658),\n",
       " ('holiday', -86.76357810238395),\n",
       " ('weekday', 137.2291962130855),\n",
       " ('workingday', 56.38823527436251),\n",
       " ('weathersit', -330.2316126526911),\n",
       " ('temp', 367.4749136050979),\n",
       " ('atemp', 585.5563613048682),\n",
       " ('hum', -145.60790584172227),\n",
       " ('windspeed(mph)', 12458830091266.607),\n",
       " ('windspeed(ms)', -12458830091465.062)]"
      ]
     },
     "execution_count": 8,
     "metadata": {},
     "output_type": "execute_result"
    }
   ],
   "source": [
    "#Обучение модели без регуляризации\n",
    "lin_reg = LinearRegression()\n",
    "lin_reg.fit(X,y)\n",
    "list(zip(df.columns,lin_reg.coef_))"
   ]
  },
  {
   "cell_type": "code",
   "execution_count": 9,
   "metadata": {},
   "outputs": [
    {
     "data": {
      "text/plain": [
       "[('season', 560.2416160308869),\n",
       " ('yr', 1019.4634940657196),\n",
       " ('mnth', -128.7306270367875),\n",
       " ('holiday', -86.1527813337111),\n",
       " ('weekday', 137.34789390496312),\n",
       " ('workingday', 55.21237064135672),\n",
       " ('weathersit', -332.3698569623486),\n",
       " ('temp', 376.3632362096987),\n",
       " ('atemp', 576.530793504551),\n",
       " ('hum', -144.12915500348606),\n",
       " ('windspeed(mph)', -197.1396894024858),\n",
       " ('windspeed(ms)', -2.8049811945715987e-08)]"
      ]
     },
     "execution_count": 9,
     "metadata": {},
     "output_type": "execute_result"
    }
   ],
   "source": [
    "#Обучение модели с l2 регуляризацией\n",
    "lasso_reg = Lasso()\n",
    "lasso_reg.fit(X,y)\n",
    "list(zip(df.columns,lasso_reg.coef_))"
   ]
  },
  {
   "cell_type": "code",
   "execution_count": 10,
   "metadata": {},
   "outputs": [
    {
     "data": {
      "text/plain": [
       "[('season', 560.2416160308869),\n",
       " ('yr', 1019.4634940657196),\n",
       " ('mnth', -128.7306270367875),\n",
       " ('holiday', -86.1527813337111),\n",
       " ('weekday', 137.34789390496312),\n",
       " ('workingday', 55.21237064135672),\n",
       " ('weathersit', -332.3698569623486),\n",
       " ('temp', 376.3632362096987),\n",
       " ('atemp', 576.530793504551),\n",
       " ('hum', -144.12915500348606),\n",
       " ('windspeed(mph)', -197.1396894024858),\n",
       " ('windspeed(ms)', -2.8049811945715987e-08)]"
      ]
     },
     "execution_count": 10,
     "metadata": {},
     "output_type": "execute_result"
    }
   ],
   "source": [
    "#Обучение модели с l1 регуляризацией\n",
    "lasso_reg = Lasso()\n",
    "lasso_reg.fit(X,y)\n",
    "list(zip(df.columns,lasso_reg.coef_))"
   ]
  },
  {
   "cell_type": "code",
   "execution_count": 11,
   "metadata": {},
   "outputs": [
    {
     "name": "stdout",
     "output_type": "stream",
     "text": [
      "Best alpha:  6\n"
     ]
    },
    {
     "data": {
      "image/png": "[encoded data removed]",
      "text/plain": [
       "<Figure size 432x288 with 1 Axes>"
      ]
     },
     "metadata": {
      "needs_background": "light"
     },
     "output_type": "display_data"
    }
   ],
   "source": [
    "#Подбор параметра регуляризации\n",
    "alphas = np.arange(1, 100, 5)\n",
    "\n",
    "l_cv = LassoCV(alphas=alphas)\n",
    "l_cv.fit(X,y)\n",
    "l_cv_means = l_cv.mse_path_.mean(axis=1)\n",
    "\n",
    "plt.plot(l_cv.alphas_,l_cv_means)\n",
    "plt.title(\"Regularization results\")\n",
    "plt.xlabel(\"Alpha\")\n",
    "plt.ylabel(\"MSE\")\n",
    "\n",
    "print ('Best alpha: ',l_cv.alpha_)"
   ]
  }
 ],
 "metadata": {
  "kernelspec": {
   "display_name": "Python 3",
   "language": "python",
   "name": "python3"
  },
  "language_info": {
   "codemirror_mode": {
    "name": "ipython",
    "version": 3
   },
   "file_extension": ".py",
   "mimetype": "text/x-python",
   "name": "python",
   "nbconvert_exporter": "python",
   "pygments_lexer": "ipython3",
   "version": "3.7.0"
  }
 },
 "nbformat": 4,
 "nbformat_minor": 2
}
